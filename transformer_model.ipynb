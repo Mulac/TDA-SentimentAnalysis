{
  "nbformat": 4,
  "nbformat_minor": 0,
  "metadata": {
    "colab": {
      "name": "Copy of  transformer_model",
      "provenance": [],
      "collapsed_sections": [],
      "include_colab_link": true
    },
    "kernelspec": {
      "name": "python3",
      "display_name": "Python 3"
    },
    "accelerator": "GPU",
    "widgets": {
      "application/vnd.jupyter.widget-state+json": {
        "2c94d355d85049f58ddef3628972638e": {
          "model_module": "@jupyter-widgets/controls",
          "model_name": "HBoxModel",
          "state": {
            "_view_name": "HBoxView",
            "_dom_classes": [],
            "_model_name": "HBoxModel",
            "_view_module": "@jupyter-widgets/controls",
            "_model_module_version": "1.5.0",
            "_view_count": null,
            "_view_module_version": "1.5.0",
            "box_style": "",
            "layout": "IPY_MODEL_084d119426954bf8990e6807020867f7",
            "_model_module": "@jupyter-widgets/controls",
            "children": [
              "IPY_MODEL_62256740501247fe946a1ddfcf734259",
              "IPY_MODEL_6d0309b5cc9e4edba7eef2bc8111ee95"
            ]
          }
        },
        "084d119426954bf8990e6807020867f7": {
          "model_module": "@jupyter-widgets/base",
          "model_name": "LayoutModel",
          "state": {
            "_view_name": "LayoutView",
            "grid_template_rows": null,
            "right": null,
            "justify_content": null,
            "_view_module": "@jupyter-widgets/base",
            "overflow": null,
            "_model_module_version": "1.2.0",
            "_view_count": null,
            "flex_flow": null,
            "width": null,
            "min_width": null,
            "border": null,
            "align_items": null,
            "bottom": null,
            "_model_module": "@jupyter-widgets/base",
            "top": null,
            "grid_column": null,
            "overflow_y": null,
            "overflow_x": null,
            "grid_auto_flow": null,
            "grid_area": null,
            "grid_template_columns": null,
            "flex": null,
            "_model_name": "LayoutModel",
            "justify_items": null,
            "grid_row": null,
            "max_height": null,
            "align_content": null,
            "visibility": null,
            "align_self": null,
            "height": null,
            "min_height": null,
            "padding": null,
            "grid_auto_rows": null,
            "grid_gap": null,
            "max_width": null,
            "order": null,
            "_view_module_version": "1.2.0",
            "grid_template_areas": null,
            "object_position": null,
            "object_fit": null,
            "grid_auto_columns": null,
            "margin": null,
            "display": null,
            "left": null
          }
        },
        "62256740501247fe946a1ddfcf734259": {
          "model_module": "@jupyter-widgets/controls",
          "model_name": "FloatProgressModel",
          "state": {
            "_view_name": "ProgressView",
            "style": "IPY_MODEL_9b68cfcaddd64fdca646e76a856787d0",
            "_dom_classes": [],
            "description": "Downloading: 100%",
            "_model_name": "FloatProgressModel",
            "bar_style": "success",
            "max": 433,
            "_view_module": "@jupyter-widgets/controls",
            "_model_module_version": "1.5.0",
            "value": 433,
            "_view_count": null,
            "_view_module_version": "1.5.0",
            "orientation": "horizontal",
            "min": 0,
            "description_tooltip": null,
            "_model_module": "@jupyter-widgets/controls",
            "layout": "IPY_MODEL_ef1646cb0a7844a78e3fdca111d8b1b1"
          }
        },
        "6d0309b5cc9e4edba7eef2bc8111ee95": {
          "model_module": "@jupyter-widgets/controls",
          "model_name": "HTMLModel",
          "state": {
            "_view_name": "HTMLView",
            "style": "IPY_MODEL_c5f9d1346f5d44ebbc015b72bf16139d",
            "_dom_classes": [],
            "description": "",
            "_model_name": "HTMLModel",
            "placeholder": "​",
            "_view_module": "@jupyter-widgets/controls",
            "_model_module_version": "1.5.0",
            "value": " 433/433 [00:00&lt;00:00, 1.26kB/s]",
            "_view_count": null,
            "_view_module_version": "1.5.0",
            "description_tooltip": null,
            "_model_module": "@jupyter-widgets/controls",
            "layout": "IPY_MODEL_436905f82ff344b892ab26974af29ae0"
          }
        },
        "9b68cfcaddd64fdca646e76a856787d0": {
          "model_module": "@jupyter-widgets/controls",
          "model_name": "ProgressStyleModel",
          "state": {
            "_view_name": "StyleView",
            "_model_name": "ProgressStyleModel",
            "description_width": "initial",
            "_view_module": "@jupyter-widgets/base",
            "_model_module_version": "1.5.0",
            "_view_count": null,
            "_view_module_version": "1.2.0",
            "bar_color": null,
            "_model_module": "@jupyter-widgets/controls"
          }
        },
        "ef1646cb0a7844a78e3fdca111d8b1b1": {
          "model_module": "@jupyter-widgets/base",
          "model_name": "LayoutModel",
          "state": {
            "_view_name": "LayoutView",
            "grid_template_rows": null,
            "right": null,
            "justify_content": null,
            "_view_module": "@jupyter-widgets/base",
            "overflow": null,
            "_model_module_version": "1.2.0",
            "_view_count": null,
            "flex_flow": null,
            "width": null,
            "min_width": null,
            "border": null,
            "align_items": null,
            "bottom": null,
            "_model_module": "@jupyter-widgets/base",
            "top": null,
            "grid_column": null,
            "overflow_y": null,
            "overflow_x": null,
            "grid_auto_flow": null,
            "grid_area": null,
            "grid_template_columns": null,
            "flex": null,
            "_model_name": "LayoutModel",
            "justify_items": null,
            "grid_row": null,
            "max_height": null,
            "align_content": null,
            "visibility": null,
            "align_self": null,
            "height": null,
            "min_height": null,
            "padding": null,
            "grid_auto_rows": null,
            "grid_gap": null,
            "max_width": null,
            "order": null,
            "_view_module_version": "1.2.0",
            "grid_template_areas": null,
            "object_position": null,
            "object_fit": null,
            "grid_auto_columns": null,
            "margin": null,
            "display": null,
            "left": null
          }
        },
        "c5f9d1346f5d44ebbc015b72bf16139d": {
          "model_module": "@jupyter-widgets/controls",
          "model_name": "DescriptionStyleModel",
          "state": {
            "_view_name": "StyleView",
            "_model_name": "DescriptionStyleModel",
            "description_width": "",
            "_view_module": "@jupyter-widgets/base",
            "_model_module_version": "1.5.0",
            "_view_count": null,
            "_view_module_version": "1.2.0",
            "_model_module": "@jupyter-widgets/controls"
          }
        },
        "436905f82ff344b892ab26974af29ae0": {
          "model_module": "@jupyter-widgets/base",
          "model_name": "LayoutModel",
          "state": {
            "_view_name": "LayoutView",
            "grid_template_rows": null,
            "right": null,
            "justify_content": null,
            "_view_module": "@jupyter-widgets/base",
            "overflow": null,
            "_model_module_version": "1.2.0",
            "_view_count": null,
            "flex_flow": null,
            "width": null,
            "min_width": null,
            "border": null,
            "align_items": null,
            "bottom": null,
            "_model_module": "@jupyter-widgets/base",
            "top": null,
            "grid_column": null,
            "overflow_y": null,
            "overflow_x": null,
            "grid_auto_flow": null,
            "grid_area": null,
            "grid_template_columns": null,
            "flex": null,
            "_model_name": "LayoutModel",
            "justify_items": null,
            "grid_row": null,
            "max_height": null,
            "align_content": null,
            "visibility": null,
            "align_self": null,
            "height": null,
            "min_height": null,
            "padding": null,
            "grid_auto_rows": null,
            "grid_gap": null,
            "max_width": null,
            "order": null,
            "_view_module_version": "1.2.0",
            "grid_template_areas": null,
            "object_position": null,
            "object_fit": null,
            "grid_auto_columns": null,
            "margin": null,
            "display": null,
            "left": null
          }
        },
        "45afb60ec7624ee499fce09755602e1a": {
          "model_module": "@jupyter-widgets/controls",
          "model_name": "HBoxModel",
          "state": {
            "_view_name": "HBoxView",
            "_dom_classes": [],
            "_model_name": "HBoxModel",
            "_view_module": "@jupyter-widgets/controls",
            "_model_module_version": "1.5.0",
            "_view_count": null,
            "_view_module_version": "1.5.0",
            "box_style": "",
            "layout": "IPY_MODEL_59b0de5a81e34fcbbc25bf2d29f909c4",
            "_model_module": "@jupyter-widgets/controls",
            "children": [
              "IPY_MODEL_26e25f243ba94135844b3ccdfc655e54",
              "IPY_MODEL_6a56bba52bcc40538f663d25a868d9a8"
            ]
          }
        },
        "59b0de5a81e34fcbbc25bf2d29f909c4": {
          "model_module": "@jupyter-widgets/base",
          "model_name": "LayoutModel",
          "state": {
            "_view_name": "LayoutView",
            "grid_template_rows": null,
            "right": null,
            "justify_content": null,
            "_view_module": "@jupyter-widgets/base",
            "overflow": null,
            "_model_module_version": "1.2.0",
            "_view_count": null,
            "flex_flow": null,
            "width": null,
            "min_width": null,
            "border": null,
            "align_items": null,
            "bottom": null,
            "_model_module": "@jupyter-widgets/base",
            "top": null,
            "grid_column": null,
            "overflow_y": null,
            "overflow_x": null,
            "grid_auto_flow": null,
            "grid_area": null,
            "grid_template_columns": null,
            "flex": null,
            "_model_name": "LayoutModel",
            "justify_items": null,
            "grid_row": null,
            "max_height": null,
            "align_content": null,
            "visibility": null,
            "align_self": null,
            "height": null,
            "min_height": null,
            "padding": null,
            "grid_auto_rows": null,
            "grid_gap": null,
            "max_width": null,
            "order": null,
            "_view_module_version": "1.2.0",
            "grid_template_areas": null,
            "object_position": null,
            "object_fit": null,
            "grid_auto_columns": null,
            "margin": null,
            "display": null,
            "left": null
          }
        },
        "26e25f243ba94135844b3ccdfc655e54": {
          "model_module": "@jupyter-widgets/controls",
          "model_name": "FloatProgressModel",
          "state": {
            "_view_name": "ProgressView",
            "style": "IPY_MODEL_a14a3515940141c989deef8b725ca7e7",
            "_dom_classes": [],
            "description": "Downloading: 100%",
            "_model_name": "FloatProgressModel",
            "bar_style": "success",
            "max": 435779157,
            "_view_module": "@jupyter-widgets/controls",
            "_model_module_version": "1.5.0",
            "value": 435779157,
            "_view_count": null,
            "_view_module_version": "1.5.0",
            "orientation": "horizontal",
            "min": 0,
            "description_tooltip": null,
            "_model_module": "@jupyter-widgets/controls",
            "layout": "IPY_MODEL_91cc01b34d764118b49a3322181cddec"
          }
        },
        "6a56bba52bcc40538f663d25a868d9a8": {
          "model_module": "@jupyter-widgets/controls",
          "model_name": "HTMLModel",
          "state": {
            "_view_name": "HTMLView",
            "style": "IPY_MODEL_0383837ad9144625aa1fc67e8b383a31",
            "_dom_classes": [],
            "description": "",
            "_model_name": "HTMLModel",
            "placeholder": "​",
            "_view_module": "@jupyter-widgets/controls",
            "_model_module_version": "1.5.0",
            "value": " 436M/436M [00:17&lt;00:00, 24.2MB/s]",
            "_view_count": null,
            "_view_module_version": "1.5.0",
            "description_tooltip": null,
            "_model_module": "@jupyter-widgets/controls",
            "layout": "IPY_MODEL_c89be2fc74bb42eba777f55e04b026da"
          }
        },
        "a14a3515940141c989deef8b725ca7e7": {
          "model_module": "@jupyter-widgets/controls",
          "model_name": "ProgressStyleModel",
          "state": {
            "_view_name": "StyleView",
            "_model_name": "ProgressStyleModel",
            "description_width": "initial",
            "_view_module": "@jupyter-widgets/base",
            "_model_module_version": "1.5.0",
            "_view_count": null,
            "_view_module_version": "1.2.0",
            "bar_color": null,
            "_model_module": "@jupyter-widgets/controls"
          }
        },
        "91cc01b34d764118b49a3322181cddec": {
          "model_module": "@jupyter-widgets/base",
          "model_name": "LayoutModel",
          "state": {
            "_view_name": "LayoutView",
            "grid_template_rows": null,
            "right": null,
            "justify_content": null,
            "_view_module": "@jupyter-widgets/base",
            "overflow": null,
            "_model_module_version": "1.2.0",
            "_view_count": null,
            "flex_flow": null,
            "width": null,
            "min_width": null,
            "border": null,
            "align_items": null,
            "bottom": null,
            "_model_module": "@jupyter-widgets/base",
            "top": null,
            "grid_column": null,
            "overflow_y": null,
            "overflow_x": null,
            "grid_auto_flow": null,
            "grid_area": null,
            "grid_template_columns": null,
            "flex": null,
            "_model_name": "LayoutModel",
            "justify_items": null,
            "grid_row": null,
            "max_height": null,
            "align_content": null,
            "visibility": null,
            "align_self": null,
            "height": null,
            "min_height": null,
            "padding": null,
            "grid_auto_rows": null,
            "grid_gap": null,
            "max_width": null,
            "order": null,
            "_view_module_version": "1.2.0",
            "grid_template_areas": null,
            "object_position": null,
            "object_fit": null,
            "grid_auto_columns": null,
            "margin": null,
            "display": null,
            "left": null
          }
        },
        "0383837ad9144625aa1fc67e8b383a31": {
          "model_module": "@jupyter-widgets/controls",
          "model_name": "DescriptionStyleModel",
          "state": {
            "_view_name": "StyleView",
            "_model_name": "DescriptionStyleModel",
            "description_width": "",
            "_view_module": "@jupyter-widgets/base",
            "_model_module_version": "1.5.0",
            "_view_count": null,
            "_view_module_version": "1.2.0",
            "_model_module": "@jupyter-widgets/controls"
          }
        },
        "c89be2fc74bb42eba777f55e04b026da": {
          "model_module": "@jupyter-widgets/base",
          "model_name": "LayoutModel",
          "state": {
            "_view_name": "LayoutView",
            "grid_template_rows": null,
            "right": null,
            "justify_content": null,
            "_view_module": "@jupyter-widgets/base",
            "overflow": null,
            "_model_module_version": "1.2.0",
            "_view_count": null,
            "flex_flow": null,
            "width": null,
            "min_width": null,
            "border": null,
            "align_items": null,
            "bottom": null,
            "_model_module": "@jupyter-widgets/base",
            "top": null,
            "grid_column": null,
            "overflow_y": null,
            "overflow_x": null,
            "grid_auto_flow": null,
            "grid_area": null,
            "grid_template_columns": null,
            "flex": null,
            "_model_name": "LayoutModel",
            "justify_items": null,
            "grid_row": null,
            "max_height": null,
            "align_content": null,
            "visibility": null,
            "align_self": null,
            "height": null,
            "min_height": null,
            "padding": null,
            "grid_auto_rows": null,
            "grid_gap": null,
            "max_width": null,
            "order": null,
            "_view_module_version": "1.2.0",
            "grid_template_areas": null,
            "object_position": null,
            "object_fit": null,
            "grid_auto_columns": null,
            "margin": null,
            "display": null,
            "left": null
          }
        }
      }
    }
  },
  "cells": [
    {
      "cell_type": "markdown",
      "metadata": {
        "id": "view-in-github",
        "colab_type": "text"
      },
      "source": [
        "<a href=\"https://colab.research.google.com/github/Mulac/TDA-SentimentAnalysis/blob/master/transformer_model.ipynb\" target=\"_parent\"><img src=\"https://colab.research.google.com/assets/colab-badge.svg\" alt=\"Open In Colab\"/></a>"
      ]
    },
    {
      "cell_type": "markdown",
      "metadata": {
        "id": "KcjG9IHxY4FR",
        "colab_type": "text"
      },
      "source": [
        "# **Transformer Model**"
      ]
    },
    {
      "cell_type": "code",
      "metadata": {
        "id": "f-V22nf0VyrX",
        "colab_type": "code",
        "colab": {}
      },
      "source": [
        "!pip install transformers"
      ],
      "execution_count": null,
      "outputs": []
    },
    {
      "cell_type": "code",
      "metadata": {
        "id": "ZEfT2pr4gSVU",
        "colab_type": "code",
        "colab": {}
      },
      "source": [
        "import torch\n",
        "from torchtext import data\n",
        "from transformers import BertTokenizer, BertModel\n",
        "import torch.nn as nn\n",
        "import torch.optim as optim\n",
        "from time import perf_counter\n",
        "import pandas as pd \n",
        "from nltk.corpus import stopwords"
      ],
      "execution_count": null,
      "outputs": []
    },
    {
      "cell_type": "code",
      "metadata": {
        "id": "RzKlvSX1np45",
        "colab_type": "code",
        "colab": {}
      },
      "source": [
        "tokeniser = BertTokenizer.from_pretrained('bert-base-cased')"
      ],
      "execution_count": null,
      "outputs": []
    },
    {
      "cell_type": "markdown",
      "metadata": {
        "id": "_AK2J5sy047e",
        "colab_type": "text"
      },
      "source": [
        "# Creating the dataset"
      ]
    },
    {
      "cell_type": "code",
      "metadata": {
        "id": "MTnMGNbM030J",
        "colab_type": "code",
        "colab": {}
      },
      "source": [
        "def preprocess_tweet(tweet):\n",
        "  ## TO BE IMPLEMENTED\n",
        "  return tokeniser.convert_tokens_to_ids(tweet)"
      ],
      "execution_count": null,
      "outputs": []
    },
    {
      "cell_type": "code",
      "metadata": {
        "id": "6BRNf7ATqBze",
        "colab_type": "code",
        "colab": {}
      },
      "source": [
        "\"\"\" \n",
        "Defines the fields for the dataset.\n",
        "The tweets will be tokenised and preprocessed here.\n",
        "\"\"\"\n",
        "\n",
        "TEXT = data.Field(tokenize = tokeniser.tokenize,\n",
        "                  sequential = True,\n",
        "                  use_vocab = False,\n",
        "                  batch_first = True,\n",
        "                  preprocessing = preprocess_tweet,\n",
        "                  init_token = tokeniser.cls_token_id,\n",
        "                  eos_token = tokeniser.eos_token_id,\n",
        "                  pad_token = tokeniser.pad_token_id,\n",
        "                  unk_token = tokeniser.unk_token_id)\n",
        "\n",
        "LABEL = data.LabelField(dtype = torch.long)\n",
        "\n",
        "fields = [('label', LABEL), ('tweet', TEXT)]"
      ],
      "execution_count": null,
      "outputs": []
    },
    {
      "cell_type": "code",
      "metadata": {
        "id": "m4w2TT7hWrD-",
        "colab_type": "code",
        "colab": {}
      },
      "source": [
        "\"\"\"\n",
        "Creates dataset and splits it into training data and validation data.\n",
        "\"\"\"\n",
        "\n",
        "!curl --remote-name \\\n",
        "     -H 'Accept: application/vnd.github.v3.raw' \\\n",
        "     --location https://raw.githubusercontent.com/Mulac/TDA-SentimentAnalysis/master/data/0.75_min_confidence.csv\n",
        "\n",
        "tweet_data = data.TabularDataset(path = '0.75_min_confidence.csv', format = \"csv\", fields = fields, skip_header = True)\n",
        "train_data, valid_data = tweet_data.split()"
      ],
      "execution_count": null,
      "outputs": []
    },
    {
      "cell_type": "code",
      "metadata": {
        "id": "-7GtBq2bdsW8",
        "colab_type": "code",
        "colab": {
          "base_uri": "https://localhost:8080/",
          "height": 173
        },
        "outputId": "e271bd4a-eb55-4d8c-c858-df62699d2d8b"
      },
      "source": [
        "print(\"Training data size:\", len(train_data))\n",
        "print(\"Training data size:\", len(valid_data), \"\\n\")\n",
        "\n",
        "print(\"Row/Example object in the training data set:\", vars(train_data[0]))\n",
        "print(\"Converting the tweet text back into tokens gives:\", tokeniser.convert_ids_to_tokens(vars(train_data[0])['tweet']), \"\\n\")\n",
        "\n",
        "print(\"Row/Example object in the validation data set:\", vars(valid_data[0]))\n",
        "print(\"Converting the tweet text back into tokens gives:\", tokeniser.convert_ids_to_tokens(vars(valid_data[0])['tweet']))"
      ],
      "execution_count": null,
      "outputs": [
        {
          "output_type": "stream",
          "text": [
            "Training data size: 7323\n",
            "Training data size: 3138 \n",
            "\n",
            "Row/Example object in the training data set: {'label': 'negative', 'tweet': [137, 10280, 1577, 112, 189, 1138, 3566, 20147, 1146, 1412, 3868, 4169, 1190, 1152, 1225, 119, 5749, 1111, 1217, 1216, 170, 6434, 8694, 119, 108, 9333]}\n",
            "Converting the tweet text back into tokens gives: ['@', 'united', 'couldn', \"'\", 't', 'have', 'possibly', 'messed', 'up', 'our', 'trip', 'anymore', 'than', 'they', 'did', '.', 'Thanks', 'for', 'being', 'such', 'a', 'terrible', 'airline', '.', '#', 'disappointed'] \n",
            "\n",
            "Row/Example object in the validation data set: {'label': 'positive', 'tweet': [137, 1237, 1592, 3161, 5749, 106, 1124, 1110, 119]}\n",
            "Converting the tweet text back into tokens gives: ['@', 'American', '##A', '##ir', 'Thanks', '!', 'He', 'is', '.']\n"
          ],
          "name": "stdout"
        }
      ]
    },
    {
      "cell_type": "code",
      "metadata": {
        "id": "P6jnF9atpyDP",
        "colab_type": "code",
        "colab": {}
      },
      "source": [
        "\"\"\"\n",
        "Builds the vocab object for the tweet and label fields in the training data.\n",
        "\"\"\"\n",
        "TEXT.build_vocab(train_data)\n",
        "LABEL.build_vocab(train_data)"
      ],
      "execution_count": null,
      "outputs": []
    },
    {
      "cell_type": "code",
      "metadata": {
        "id": "LlvUTFL9rVi7",
        "colab_type": "code",
        "colab": {
          "base_uri": "https://localhost:8080/",
          "height": 34
        },
        "outputId": "9e07f7ce-8ba1-4020-cab9-4e4beebe810f"
      },
      "source": [
        "print(\"Mapping of tokens to numbers for the labels:\", LABEL.vocab.stoi)"
      ],
      "execution_count": null,
      "outputs": [
        {
          "output_type": "stream",
          "text": [
            "Mapping of tokens to numbers for the labels: defaultdict(<function _default_unk_index at 0x7f08453beae8>, {'negative': 0, 'neutral': 1, 'positive': 2})\n"
          ],
          "name": "stdout"
        }
      ]
    },
    {
      "cell_type": "code",
      "metadata": {
        "id": "Z6OVwliWXFD9",
        "colab_type": "code",
        "colab": {}
      },
      "source": [
        "\"\"\"\n",
        "Splitting the dataset into training and validation.\n",
        "Sorted by length of tweets, so each batch has similarly sized tweets.\n",
        "\"\"\"\n",
        "train_iter, valid_iter = data.BucketIterator.splits(\n",
        "    (train_data, valid_data), sort_key=lambda x: len(x.tweet), batch_size=32)"
      ],
      "execution_count": null,
      "outputs": []
    },
    {
      "cell_type": "code",
      "metadata": {
        "id": "GQ1dFZYdCztb",
        "colab_type": "code",
        "colab": {
          "base_uri": "https://localhost:8080/",
          "height": 68
        },
        "outputId": "1e002784-a02d-4bd1-b260-b76d119c994c"
      },
      "source": [
        "print(\"Number of batches (Training set):\", len(train_iter), \"\\n\")\n",
        "print(\"Number of batches (Validation set):\",len(valid_iter))"
      ],
      "execution_count": null,
      "outputs": [
        {
          "output_type": "stream",
          "text": [
            "Number of batches (Training set): 229 \n",
            "\n",
            "Number of batches (Validation set): 99\n"
          ],
          "name": "stdout"
        }
      ]
    },
    {
      "cell_type": "markdown",
      "metadata": {
        "id": "bRnCtuttDKnP",
        "colab_type": "text"
      },
      "source": [
        "# Building the model"
      ]
    },
    {
      "cell_type": "markdown",
      "metadata": {
        "id": "75lLyiCNpbqb",
        "colab_type": "text"
      },
      "source": [
        "To get the embeddings for the tweets, we will use BERT (pre-trained **Bidirectional Encoder Representations from Transformers** by Google). These embeddings will be passed to the GRU (Gated Recurrent Unit)."
      ]
    },
    {
      "cell_type": "code",
      "metadata": {
        "id": "NnhxHR-IZARv",
        "colab_type": "code",
        "colab": {
          "base_uri": "https://localhost:8080/",
          "height": 115,
          "referenced_widgets": [
            "2c94d355d85049f58ddef3628972638e",
            "084d119426954bf8990e6807020867f7",
            "62256740501247fe946a1ddfcf734259",
            "6d0309b5cc9e4edba7eef2bc8111ee95",
            "9b68cfcaddd64fdca646e76a856787d0",
            "ef1646cb0a7844a78e3fdca111d8b1b1",
            "c5f9d1346f5d44ebbc015b72bf16139d",
            "436905f82ff344b892ab26974af29ae0",
            "45afb60ec7624ee499fce09755602e1a",
            "59b0de5a81e34fcbbc25bf2d29f909c4",
            "26e25f243ba94135844b3ccdfc655e54",
            "6a56bba52bcc40538f663d25a868d9a8",
            "a14a3515940141c989deef8b725ca7e7",
            "91cc01b34d764118b49a3322181cddec",
            "0383837ad9144625aa1fc67e8b383a31",
            "c89be2fc74bb42eba777f55e04b026da"
          ]
        },
        "outputId": "ba630fa4-05b7-46ca-d5f8-99f6fc5a05e3"
      },
      "source": [
        "bert = BertModel.from_pretrained('bert-base-cased')"
      ],
      "execution_count": null,
      "outputs": [
        {
          "output_type": "display_data",
          "data": {
            "application/vnd.jupyter.widget-view+json": {
              "model_id": "2c94d355d85049f58ddef3628972638e",
              "version_minor": 0,
              "version_major": 2
            },
            "text/plain": [
              "HBox(children=(FloatProgress(value=0.0, description='Downloading', max=433.0, style=ProgressStyle(description_…"
            ]
          },
          "metadata": {
            "tags": []
          }
        },
        {
          "output_type": "stream",
          "text": [
            "\n"
          ],
          "name": "stdout"
        },
        {
          "output_type": "display_data",
          "data": {
            "application/vnd.jupyter.widget-view+json": {
              "model_id": "45afb60ec7624ee499fce09755602e1a",
              "version_minor": 0,
              "version_major": 2
            },
            "text/plain": [
              "HBox(children=(FloatProgress(value=0.0, description='Downloading', max=435779157.0, style=ProgressStyle(descri…"
            ]
          },
          "metadata": {
            "tags": []
          }
        },
        {
          "output_type": "stream",
          "text": [
            "\n"
          ],
          "name": "stdout"
        }
      ]
    },
    {
      "cell_type": "code",
      "metadata": {
        "id": "n1NAXUajaPMB",
        "colab_type": "code",
        "colab": {}
      },
      "source": [
        "class Network(nn.Module):\n",
        "    def __init__(self, bert, hidden_dim, output_dim, num_layers, dropout):\n",
        "        \n",
        "        super().__init__()\n",
        "        \n",
        "        self.bert = bert\n",
        "        \n",
        "        embedding_dim = bert.config.to_dict()['hidden_size'] ## # size of input features for the GRU = embedding dimension size\n",
        "        \n",
        "        self.rnn = nn.GRU(input_size = embedding_dim, \n",
        "                          hidden_size = hidden_dim, \n",
        "                          num_layers = num_layers, \n",
        "                          bidirectional = True, \n",
        "                          batch_first = True, \n",
        "                          dropout = dropout)\n",
        "        \n",
        "        self.lin = nn.Linear(hidden_dim * 2, output_dim) #  bidirectional, so the hidden_size must be multiplied by 2 for the forward and backward pass\n",
        "        \n",
        "        self.dropout = nn.Dropout(dropout)\n",
        "        \n",
        "    def forward(self, tweet):\n",
        "                        \n",
        "        with torch.no_grad():            # don't want to train BERT\n",
        "            embedded = self.bert(tweet)[0]  ## gets embedding from BERT\n",
        "        \n",
        "        output_shape, hidden_state = self.rnn(embedded)   ## pass embedding into GRU\n",
        "        \n",
        "        hidden_state = self.dropout(torch.cat((hidden_state[-2,:,:], hidden_state[-1,:,:]), dim = 1)) ## bidirectional, so there are two hidden states\n",
        "\n",
        "        output = self.lin(hidden_state)  ## final linear layer gives 3 outputs for each tweet in the batch, representing negative, neutral, positive probabilities\n",
        "        \n",
        "        return output"
      ],
      "execution_count": null,
      "outputs": []
    },
    {
      "cell_type": "markdown",
      "metadata": {
        "id": "JZ0TNRy8YSdl",
        "colab_type": "text"
      },
      "source": [
        "# Hyper-parameters and creating the model\n"
      ]
    },
    {
      "cell_type": "code",
      "metadata": {
        "id": "cuRAacD7iuwK",
        "colab_type": "code",
        "colab": {}
      },
      "source": [
        "HIDDEN_DIM = 256\n",
        "NUM_LAYERS = 2\n",
        "DROPOUT_PROB = 0.25\n",
        "OUTPUT_DIM= 3\n",
        "\n",
        "model = Network(bert, HIDDEN_DIM, OUTPUT_DIM, NUM_LAYERS, DROPOUT_PROB )"
      ],
      "execution_count": null,
      "outputs": []
    },
    {
      "cell_type": "markdown",
      "metadata": {
        "id": "8W3Gx0cDjc4N",
        "colab_type": "text"
      },
      "source": [
        "We don't want to train the BERT model, so we set *requires_grad = false* for BERT's parameters."
      ]
    },
    {
      "cell_type": "code",
      "metadata": {
        "id": "ypIBsU2mjOEK",
        "colab_type": "code",
        "colab": {}
      },
      "source": [
        "for name, parameter in model.named_parameters():\n",
        "  if name.startswith('bert'):\n",
        "    parameter.requires_grad = False"
      ],
      "execution_count": null,
      "outputs": []
    },
    {
      "cell_type": "markdown",
      "metadata": {
        "id": "bPj_MxBg0S9M",
        "colab_type": "text"
      },
      "source": [
        "# Training the model"
      ]
    },
    {
      "cell_type": "code",
      "metadata": {
        "id": "MFrCmyYUoC8r",
        "colab_type": "code",
        "colab": {}
      },
      "source": [
        "optimiser = optim.Adam(model.parameters())\n",
        "criterion = nn.CrossEntropyLoss() ## multiple classes, so cross entropy loss is appropriate"
      ],
      "execution_count": null,
      "outputs": []
    },
    {
      "cell_type": "code",
      "metadata": {
        "id": "Cbrn05hf0Yi0",
        "colab_type": "code",
        "colab": {}
      },
      "source": [
        "\"\"\"\n",
        "Training loop\n",
        "\"\"\"\n",
        "def train():\n",
        "\n",
        "  model.train()\n",
        "  correct = 0\n",
        "  total = 0\n",
        "\n",
        "  for batch in train_iter:    \n",
        "\n",
        "    optimiser.zero_grad() \n",
        "\n",
        "    output = model(batch.tweet)\n",
        "\n",
        "    loss = criterion(output, batch.label)\n",
        "    loss.backward()\n",
        "\n",
        "    optimiser.step()\n",
        "\n",
        "    predictions = torch.argmax(output, dim=1) ## gets index of the highest probability sentiment for each tweet\n",
        "\n",
        "    total += len(batch.label)\n",
        "    correct += (predictions == batch.label).sum().item()\n",
        "\n",
        "  print(\"Training accuracy:\", (correct/total)*100)\n"
      ],
      "execution_count": null,
      "outputs": []
    },
    {
      "cell_type": "code",
      "metadata": {
        "id": "K_sJciq340Ik",
        "colab_type": "code",
        "colab": {}
      },
      "source": [
        "def evaluate():\n",
        "\n",
        "  model.eval()\n",
        "  correct = 0\n",
        "  total = 0\n",
        "\n",
        "  with torch.no_grad():\n",
        "    for batch in valid_iter:\n",
        "\n",
        "      output = model(batch.tweet)\n",
        "\n",
        "      predictions = torch.argmax(output, dim=1)\n",
        "\n",
        "      total += len(batch.label)\n",
        "      correct += (predictions == batch.label).sum().item()\n",
        "\n",
        "  print(\"Validation accuracy:\", (correct/total)*100)\n"
      ],
      "execution_count": null,
      "outputs": []
    },
    {
      "cell_type": "code",
      "metadata": {
        "id": "d5-LaYBq6iwm",
        "colab_type": "code",
        "colab": {
          "base_uri": "https://localhost:8080/",
          "height": 527
        },
        "outputId": "88a2c86e-6663-4c87-b8b8-a2d56b14de53"
      },
      "source": [
        "EPOCHS = 5\n",
        "\n",
        "for epoch in range(EPOCHS):\n",
        "\n",
        "  print(\"\\nEpoch\" ,(epoch+1))\n",
        "  start = perf_counter()\n",
        "  train()\n",
        "  end = perf_counter()\n",
        "  print(\"Epoch time:\", (end-start)/60, \"minutes \\n\")\n",
        "  evaluate()\n",
        "\n",
        "\n",
        "torch.save(model, \"saved_transformer_model.pt\")"
      ],
      "execution_count": 20,
      "outputs": [
        {
          "output_type": "stream",
          "text": [
            "\n",
            "Epoch 1\n",
            "Training accuracy: 78.66994401201694\n",
            "Epoch time: 19.650192041966665 minutes \n",
            "\n",
            "Validation accuracy: 81.35755258126196\n",
            "\n",
            "Epoch 2\n",
            "Training accuracy: 86.15321589512494\n",
            "Epoch time: 19.3949206674 minutes \n",
            "\n",
            "Validation accuracy: 86.26513702995538\n",
            "\n",
            "Epoch 3\n",
            "Training accuracy: 87.84651099276253\n",
            "Epoch time: 19.60196131818334 minutes \n",
            "\n",
            "Validation accuracy: 85.65965583173997\n",
            "\n",
            "Epoch 4\n",
            "Training accuracy: 89.26669397787792\n",
            "Epoch time: 19.58538397521667 minutes \n",
            "\n",
            "Validation accuracy: 86.36073932441045\n",
            "\n",
            "Epoch 5\n",
            "Training accuracy: 90.11334152669671\n",
            "Epoch time: 19.626577686783335 minutes \n",
            "\n",
            "Validation accuracy: 87.31676226896113\n"
          ],
          "name": "stdout"
        }
      ]
    }
  ]
}