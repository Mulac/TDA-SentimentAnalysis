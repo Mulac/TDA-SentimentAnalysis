{
  "nbformat": 4,
  "nbformat_minor": 0,
  "metadata": {
    "colab": {
      "name": "transformer_model",
      "provenance": [],
      "collapsed_sections": [],
      "include_colab_link": true
    },
    "kernelspec": {
      "name": "python3",
      "display_name": "Python 3"
    },
    "accelerator": "GPU",
    "widgets": {
      "application/vnd.jupyter.widget-state+json": {
        "3bda330fed994429ae9eb8e100c75b1e": {
          "model_module": "@jupyter-widgets/controls",
          "model_name": "HBoxModel",
          "state": {
            "_view_name": "HBoxView",
            "_dom_classes": [],
            "_model_name": "HBoxModel",
            "_view_module": "@jupyter-widgets/controls",
            "_model_module_version": "1.5.0",
            "_view_count": null,
            "_view_module_version": "1.5.0",
            "box_style": "",
            "layout": "IPY_MODEL_f600477a1f104056b337f436a7b015b2",
            "_model_module": "@jupyter-widgets/controls",
            "children": [
              "IPY_MODEL_c78ba73fc7424af99455e9147544c54f",
              "IPY_MODEL_2b831313e3b04fd0b328da3c04211f32"
            ]
          }
        },
        "f600477a1f104056b337f436a7b015b2": {
          "model_module": "@jupyter-widgets/base",
          "model_name": "LayoutModel",
          "state": {
            "_view_name": "LayoutView",
            "grid_template_rows": null,
            "right": null,
            "justify_content": null,
            "_view_module": "@jupyter-widgets/base",
            "overflow": null,
            "_model_module_version": "1.2.0",
            "_view_count": null,
            "flex_flow": null,
            "width": null,
            "min_width": null,
            "border": null,
            "align_items": null,
            "bottom": null,
            "_model_module": "@jupyter-widgets/base",
            "top": null,
            "grid_column": null,
            "overflow_y": null,
            "overflow_x": null,
            "grid_auto_flow": null,
            "grid_area": null,
            "grid_template_columns": null,
            "flex": null,
            "_model_name": "LayoutModel",
            "justify_items": null,
            "grid_row": null,
            "max_height": null,
            "align_content": null,
            "visibility": null,
            "align_self": null,
            "height": null,
            "min_height": null,
            "padding": null,
            "grid_auto_rows": null,
            "grid_gap": null,
            "max_width": null,
            "order": null,
            "_view_module_version": "1.2.0",
            "grid_template_areas": null,
            "object_position": null,
            "object_fit": null,
            "grid_auto_columns": null,
            "margin": null,
            "display": null,
            "left": null
          }
        },
        "c78ba73fc7424af99455e9147544c54f": {
          "model_module": "@jupyter-widgets/controls",
          "model_name": "FloatProgressModel",
          "state": {
            "_view_name": "ProgressView",
            "style": "IPY_MODEL_045c58ee94454c799ab192a7f25adaaa",
            "_dom_classes": [],
            "description": "Downloading: 100%",
            "_model_name": "FloatProgressModel",
            "bar_style": "success",
            "max": 231508,
            "_view_module": "@jupyter-widgets/controls",
            "_model_module_version": "1.5.0",
            "value": 231508,
            "_view_count": null,
            "_view_module_version": "1.5.0",
            "orientation": "horizontal",
            "min": 0,
            "description_tooltip": null,
            "_model_module": "@jupyter-widgets/controls",
            "layout": "IPY_MODEL_9a6dd78194ad43d2b962d70844a2543a"
          }
        },
        "2b831313e3b04fd0b328da3c04211f32": {
          "model_module": "@jupyter-widgets/controls",
          "model_name": "HTMLModel",
          "state": {
            "_view_name": "HTMLView",
            "style": "IPY_MODEL_f042693b3d0c4795bd4c03172502a74b",
            "_dom_classes": [],
            "description": "",
            "_model_name": "HTMLModel",
            "placeholder": "​",
            "_view_module": "@jupyter-widgets/controls",
            "_model_module_version": "1.5.0",
            "value": " 232k/232k [00:00&lt;00:00, 2.26MB/s]",
            "_view_count": null,
            "_view_module_version": "1.5.0",
            "description_tooltip": null,
            "_model_module": "@jupyter-widgets/controls",
            "layout": "IPY_MODEL_acb8e687f865475ebc56c1564f6a6b0a"
          }
        },
        "045c58ee94454c799ab192a7f25adaaa": {
          "model_module": "@jupyter-widgets/controls",
          "model_name": "ProgressStyleModel",
          "state": {
            "_view_name": "StyleView",
            "_model_name": "ProgressStyleModel",
            "description_width": "initial",
            "_view_module": "@jupyter-widgets/base",
            "_model_module_version": "1.5.0",
            "_view_count": null,
            "_view_module_version": "1.2.0",
            "bar_color": null,
            "_model_module": "@jupyter-widgets/controls"
          }
        },
        "9a6dd78194ad43d2b962d70844a2543a": {
          "model_module": "@jupyter-widgets/base",
          "model_name": "LayoutModel",
          "state": {
            "_view_name": "LayoutView",
            "grid_template_rows": null,
            "right": null,
            "justify_content": null,
            "_view_module": "@jupyter-widgets/base",
            "overflow": null,
            "_model_module_version": "1.2.0",
            "_view_count": null,
            "flex_flow": null,
            "width": null,
            "min_width": null,
            "border": null,
            "align_items": null,
            "bottom": null,
            "_model_module": "@jupyter-widgets/base",
            "top": null,
            "grid_column": null,
            "overflow_y": null,
            "overflow_x": null,
            "grid_auto_flow": null,
            "grid_area": null,
            "grid_template_columns": null,
            "flex": null,
            "_model_name": "LayoutModel",
            "justify_items": null,
            "grid_row": null,
            "max_height": null,
            "align_content": null,
            "visibility": null,
            "align_self": null,
            "height": null,
            "min_height": null,
            "padding": null,
            "grid_auto_rows": null,
            "grid_gap": null,
            "max_width": null,
            "order": null,
            "_view_module_version": "1.2.0",
            "grid_template_areas": null,
            "object_position": null,
            "object_fit": null,
            "grid_auto_columns": null,
            "margin": null,
            "display": null,
            "left": null
          }
        },
        "f042693b3d0c4795bd4c03172502a74b": {
          "model_module": "@jupyter-widgets/controls",
          "model_name": "DescriptionStyleModel",
          "state": {
            "_view_name": "StyleView",
            "_model_name": "DescriptionStyleModel",
            "description_width": "",
            "_view_module": "@jupyter-widgets/base",
            "_model_module_version": "1.5.0",
            "_view_count": null,
            "_view_module_version": "1.2.0",
            "_model_module": "@jupyter-widgets/controls"
          }
        },
        "acb8e687f865475ebc56c1564f6a6b0a": {
          "model_module": "@jupyter-widgets/base",
          "model_name": "LayoutModel",
          "state": {
            "_view_name": "LayoutView",
            "grid_template_rows": null,
            "right": null,
            "justify_content": null,
            "_view_module": "@jupyter-widgets/base",
            "overflow": null,
            "_model_module_version": "1.2.0",
            "_view_count": null,
            "flex_flow": null,
            "width": null,
            "min_width": null,
            "border": null,
            "align_items": null,
            "bottom": null,
            "_model_module": "@jupyter-widgets/base",
            "top": null,
            "grid_column": null,
            "overflow_y": null,
            "overflow_x": null,
            "grid_auto_flow": null,
            "grid_area": null,
            "grid_template_columns": null,
            "flex": null,
            "_model_name": "LayoutModel",
            "justify_items": null,
            "grid_row": null,
            "max_height": null,
            "align_content": null,
            "visibility": null,
            "align_self": null,
            "height": null,
            "min_height": null,
            "padding": null,
            "grid_auto_rows": null,
            "grid_gap": null,
            "max_width": null,
            "order": null,
            "_view_module_version": "1.2.0",
            "grid_template_areas": null,
            "object_position": null,
            "object_fit": null,
            "grid_auto_columns": null,
            "margin": null,
            "display": null,
            "left": null
          }
        },
        "1090cdb77eff47ba97d693c9321f3d18": {
          "model_module": "@jupyter-widgets/controls",
          "model_name": "HBoxModel",
          "state": {
            "_view_name": "HBoxView",
            "_dom_classes": [],
            "_model_name": "HBoxModel",
            "_view_module": "@jupyter-widgets/controls",
            "_model_module_version": "1.5.0",
            "_view_count": null,
            "_view_module_version": "1.5.0",
            "box_style": "",
            "layout": "IPY_MODEL_3878e836d9a84421bbcd080128707ed5",
            "_model_module": "@jupyter-widgets/controls",
            "children": [
              "IPY_MODEL_ca6a30929c3142c7959c58519edc5fae",
              "IPY_MODEL_82a1873d875b4ecbb36766c0e77756af"
            ]
          }
        },
        "3878e836d9a84421bbcd080128707ed5": {
          "model_module": "@jupyter-widgets/base",
          "model_name": "LayoutModel",
          "state": {
            "_view_name": "LayoutView",
            "grid_template_rows": null,
            "right": null,
            "justify_content": null,
            "_view_module": "@jupyter-widgets/base",
            "overflow": null,
            "_model_module_version": "1.2.0",
            "_view_count": null,
            "flex_flow": null,
            "width": null,
            "min_width": null,
            "border": null,
            "align_items": null,
            "bottom": null,
            "_model_module": "@jupyter-widgets/base",
            "top": null,
            "grid_column": null,
            "overflow_y": null,
            "overflow_x": null,
            "grid_auto_flow": null,
            "grid_area": null,
            "grid_template_columns": null,
            "flex": null,
            "_model_name": "LayoutModel",
            "justify_items": null,
            "grid_row": null,
            "max_height": null,
            "align_content": null,
            "visibility": null,
            "align_self": null,
            "height": null,
            "min_height": null,
            "padding": null,
            "grid_auto_rows": null,
            "grid_gap": null,
            "max_width": null,
            "order": null,
            "_view_module_version": "1.2.0",
            "grid_template_areas": null,
            "object_position": null,
            "object_fit": null,
            "grid_auto_columns": null,
            "margin": null,
            "display": null,
            "left": null
          }
        },
        "ca6a30929c3142c7959c58519edc5fae": {
          "model_module": "@jupyter-widgets/controls",
          "model_name": "FloatProgressModel",
          "state": {
            "_view_name": "ProgressView",
            "style": "IPY_MODEL_dfe9089ad34f45949487169dc2b0417d",
            "_dom_classes": [],
            "description": "Downloading: 100%",
            "_model_name": "FloatProgressModel",
            "bar_style": "success",
            "max": 433,
            "_view_module": "@jupyter-widgets/controls",
            "_model_module_version": "1.5.0",
            "value": 433,
            "_view_count": null,
            "_view_module_version": "1.5.0",
            "orientation": "horizontal",
            "min": 0,
            "description_tooltip": null,
            "_model_module": "@jupyter-widgets/controls",
            "layout": "IPY_MODEL_d256acb7683845f5bf5a312265d6957a"
          }
        },
        "82a1873d875b4ecbb36766c0e77756af": {
          "model_module": "@jupyter-widgets/controls",
          "model_name": "HTMLModel",
          "state": {
            "_view_name": "HTMLView",
            "style": "IPY_MODEL_020b166cabe44f899b970ef1f3419b2c",
            "_dom_classes": [],
            "description": "",
            "_model_name": "HTMLModel",
            "placeholder": "​",
            "_view_module": "@jupyter-widgets/controls",
            "_model_module_version": "1.5.0",
            "value": " 433/433 [00:00&lt;00:00, 1.06kB/s]",
            "_view_count": null,
            "_view_module_version": "1.5.0",
            "description_tooltip": null,
            "_model_module": "@jupyter-widgets/controls",
            "layout": "IPY_MODEL_828fab9dd7874ac881b7dd6ada0ae8dd"
          }
        },
        "dfe9089ad34f45949487169dc2b0417d": {
          "model_module": "@jupyter-widgets/controls",
          "model_name": "ProgressStyleModel",
          "state": {
            "_view_name": "StyleView",
            "_model_name": "ProgressStyleModel",
            "description_width": "initial",
            "_view_module": "@jupyter-widgets/base",
            "_model_module_version": "1.5.0",
            "_view_count": null,
            "_view_module_version": "1.2.0",
            "bar_color": null,
            "_model_module": "@jupyter-widgets/controls"
          }
        },
        "d256acb7683845f5bf5a312265d6957a": {
          "model_module": "@jupyter-widgets/base",
          "model_name": "LayoutModel",
          "state": {
            "_view_name": "LayoutView",
            "grid_template_rows": null,
            "right": null,
            "justify_content": null,
            "_view_module": "@jupyter-widgets/base",
            "overflow": null,
            "_model_module_version": "1.2.0",
            "_view_count": null,
            "flex_flow": null,
            "width": null,
            "min_width": null,
            "border": null,
            "align_items": null,
            "bottom": null,
            "_model_module": "@jupyter-widgets/base",
            "top": null,
            "grid_column": null,
            "overflow_y": null,
            "overflow_x": null,
            "grid_auto_flow": null,
            "grid_area": null,
            "grid_template_columns": null,
            "flex": null,
            "_model_name": "LayoutModel",
            "justify_items": null,
            "grid_row": null,
            "max_height": null,
            "align_content": null,
            "visibility": null,
            "align_self": null,
            "height": null,
            "min_height": null,
            "padding": null,
            "grid_auto_rows": null,
            "grid_gap": null,
            "max_width": null,
            "order": null,
            "_view_module_version": "1.2.0",
            "grid_template_areas": null,
            "object_position": null,
            "object_fit": null,
            "grid_auto_columns": null,
            "margin": null,
            "display": null,
            "left": null
          }
        },
        "020b166cabe44f899b970ef1f3419b2c": {
          "model_module": "@jupyter-widgets/controls",
          "model_name": "DescriptionStyleModel",
          "state": {
            "_view_name": "StyleView",
            "_model_name": "DescriptionStyleModel",
            "description_width": "",
            "_view_module": "@jupyter-widgets/base",
            "_model_module_version": "1.5.0",
            "_view_count": null,
            "_view_module_version": "1.2.0",
            "_model_module": "@jupyter-widgets/controls"
          }
        },
        "828fab9dd7874ac881b7dd6ada0ae8dd": {
          "model_module": "@jupyter-widgets/base",
          "model_name": "LayoutModel",
          "state": {
            "_view_name": "LayoutView",
            "grid_template_rows": null,
            "right": null,
            "justify_content": null,
            "_view_module": "@jupyter-widgets/base",
            "overflow": null,
            "_model_module_version": "1.2.0",
            "_view_count": null,
            "flex_flow": null,
            "width": null,
            "min_width": null,
            "border": null,
            "align_items": null,
            "bottom": null,
            "_model_module": "@jupyter-widgets/base",
            "top": null,
            "grid_column": null,
            "overflow_y": null,
            "overflow_x": null,
            "grid_auto_flow": null,
            "grid_area": null,
            "grid_template_columns": null,
            "flex": null,
            "_model_name": "LayoutModel",
            "justify_items": null,
            "grid_row": null,
            "max_height": null,
            "align_content": null,
            "visibility": null,
            "align_self": null,
            "height": null,
            "min_height": null,
            "padding": null,
            "grid_auto_rows": null,
            "grid_gap": null,
            "max_width": null,
            "order": null,
            "_view_module_version": "1.2.0",
            "grid_template_areas": null,
            "object_position": null,
            "object_fit": null,
            "grid_auto_columns": null,
            "margin": null,
            "display": null,
            "left": null
          }
        },
        "650b47cf9349444c8df14d02c4093ee0": {
          "model_module": "@jupyter-widgets/controls",
          "model_name": "HBoxModel",
          "state": {
            "_view_name": "HBoxView",
            "_dom_classes": [],
            "_model_name": "HBoxModel",
            "_view_module": "@jupyter-widgets/controls",
            "_model_module_version": "1.5.0",
            "_view_count": null,
            "_view_module_version": "1.5.0",
            "box_style": "",
            "layout": "IPY_MODEL_13da8f89e50846778367ba6dcdb12d9a",
            "_model_module": "@jupyter-widgets/controls",
            "children": [
              "IPY_MODEL_6667e6d9a12b49f7be83907e648e2e97",
              "IPY_MODEL_b527893ec84543cc8ac9ac15bf70e56d"
            ]
          }
        },
        "13da8f89e50846778367ba6dcdb12d9a": {
          "model_module": "@jupyter-widgets/base",
          "model_name": "LayoutModel",
          "state": {
            "_view_name": "LayoutView",
            "grid_template_rows": null,
            "right": null,
            "justify_content": null,
            "_view_module": "@jupyter-widgets/base",
            "overflow": null,
            "_model_module_version": "1.2.0",
            "_view_count": null,
            "flex_flow": null,
            "width": null,
            "min_width": null,
            "border": null,
            "align_items": null,
            "bottom": null,
            "_model_module": "@jupyter-widgets/base",
            "top": null,
            "grid_column": null,
            "overflow_y": null,
            "overflow_x": null,
            "grid_auto_flow": null,
            "grid_area": null,
            "grid_template_columns": null,
            "flex": null,
            "_model_name": "LayoutModel",
            "justify_items": null,
            "grid_row": null,
            "max_height": null,
            "align_content": null,
            "visibility": null,
            "align_self": null,
            "height": null,
            "min_height": null,
            "padding": null,
            "grid_auto_rows": null,
            "grid_gap": null,
            "max_width": null,
            "order": null,
            "_view_module_version": "1.2.0",
            "grid_template_areas": null,
            "object_position": null,
            "object_fit": null,
            "grid_auto_columns": null,
            "margin": null,
            "display": null,
            "left": null
          }
        },
        "6667e6d9a12b49f7be83907e648e2e97": {
          "model_module": "@jupyter-widgets/controls",
          "model_name": "FloatProgressModel",
          "state": {
            "_view_name": "ProgressView",
            "style": "IPY_MODEL_a54fc13ef566465882d71715dc94c419",
            "_dom_classes": [],
            "description": "Downloading: 100%",
            "_model_name": "FloatProgressModel",
            "bar_style": "success",
            "max": 440473133,
            "_view_module": "@jupyter-widgets/controls",
            "_model_module_version": "1.5.0",
            "value": 440473133,
            "_view_count": null,
            "_view_module_version": "1.5.0",
            "orientation": "horizontal",
            "min": 0,
            "description_tooltip": null,
            "_model_module": "@jupyter-widgets/controls",
            "layout": "IPY_MODEL_59287aec3a1548bf99a724cd8caffee9"
          }
        },
        "b527893ec84543cc8ac9ac15bf70e56d": {
          "model_module": "@jupyter-widgets/controls",
          "model_name": "HTMLModel",
          "state": {
            "_view_name": "HTMLView",
            "style": "IPY_MODEL_db002ab89790449e85c112a1ea626857",
            "_dom_classes": [],
            "description": "",
            "_model_name": "HTMLModel",
            "placeholder": "​",
            "_view_module": "@jupyter-widgets/controls",
            "_model_module_version": "1.5.0",
            "value": " 440M/440M [1:50:32&lt;00:00, 66.4kB/s]",
            "_view_count": null,
            "_view_module_version": "1.5.0",
            "description_tooltip": null,
            "_model_module": "@jupyter-widgets/controls",
            "layout": "IPY_MODEL_53450bc8edd8442fb45ec8eeac6b610f"
          }
        },
        "a54fc13ef566465882d71715dc94c419": {
          "model_module": "@jupyter-widgets/controls",
          "model_name": "ProgressStyleModel",
          "state": {
            "_view_name": "StyleView",
            "_model_name": "ProgressStyleModel",
            "description_width": "initial",
            "_view_module": "@jupyter-widgets/base",
            "_model_module_version": "1.5.0",
            "_view_count": null,
            "_view_module_version": "1.2.0",
            "bar_color": null,
            "_model_module": "@jupyter-widgets/controls"
          }
        },
        "59287aec3a1548bf99a724cd8caffee9": {
          "model_module": "@jupyter-widgets/base",
          "model_name": "LayoutModel",
          "state": {
            "_view_name": "LayoutView",
            "grid_template_rows": null,
            "right": null,
            "justify_content": null,
            "_view_module": "@jupyter-widgets/base",
            "overflow": null,
            "_model_module_version": "1.2.0",
            "_view_count": null,
            "flex_flow": null,
            "width": null,
            "min_width": null,
            "border": null,
            "align_items": null,
            "bottom": null,
            "_model_module": "@jupyter-widgets/base",
            "top": null,
            "grid_column": null,
            "overflow_y": null,
            "overflow_x": null,
            "grid_auto_flow": null,
            "grid_area": null,
            "grid_template_columns": null,
            "flex": null,
            "_model_name": "LayoutModel",
            "justify_items": null,
            "grid_row": null,
            "max_height": null,
            "align_content": null,
            "visibility": null,
            "align_self": null,
            "height": null,
            "min_height": null,
            "padding": null,
            "grid_auto_rows": null,
            "grid_gap": null,
            "max_width": null,
            "order": null,
            "_view_module_version": "1.2.0",
            "grid_template_areas": null,
            "object_position": null,
            "object_fit": null,
            "grid_auto_columns": null,
            "margin": null,
            "display": null,
            "left": null
          }
        },
        "db002ab89790449e85c112a1ea626857": {
          "model_module": "@jupyter-widgets/controls",
          "model_name": "DescriptionStyleModel",
          "state": {
            "_view_name": "StyleView",
            "_model_name": "DescriptionStyleModel",
            "description_width": "",
            "_view_module": "@jupyter-widgets/base",
            "_model_module_version": "1.5.0",
            "_view_count": null,
            "_view_module_version": "1.2.0",
            "_model_module": "@jupyter-widgets/controls"
          }
        },
        "53450bc8edd8442fb45ec8eeac6b610f": {
          "model_module": "@jupyter-widgets/base",
          "model_name": "LayoutModel",
          "state": {
            "_view_name": "LayoutView",
            "grid_template_rows": null,
            "right": null,
            "justify_content": null,
            "_view_module": "@jupyter-widgets/base",
            "overflow": null,
            "_model_module_version": "1.2.0",
            "_view_count": null,
            "flex_flow": null,
            "width": null,
            "min_width": null,
            "border": null,
            "align_items": null,
            "bottom": null,
            "_model_module": "@jupyter-widgets/base",
            "top": null,
            "grid_column": null,
            "overflow_y": null,
            "overflow_x": null,
            "grid_auto_flow": null,
            "grid_area": null,
            "grid_template_columns": null,
            "flex": null,
            "_model_name": "LayoutModel",
            "justify_items": null,
            "grid_row": null,
            "max_height": null,
            "align_content": null,
            "visibility": null,
            "align_self": null,
            "height": null,
            "min_height": null,
            "padding": null,
            "grid_auto_rows": null,
            "grid_gap": null,
            "max_width": null,
            "order": null,
            "_view_module_version": "1.2.0",
            "grid_template_areas": null,
            "object_position": null,
            "object_fit": null,
            "grid_auto_columns": null,
            "margin": null,
            "display": null,
            "left": null
          }
        }
      }
    }
  },
  "cells": [
    {
      "cell_type": "markdown",
      "metadata": {
        "id": "view-in-github",
        "colab_type": "text"
      },
      "source": [
        "<a href=\"https://colab.research.google.com/github/Mulac/TDA-SentimentAnalysis/blob/master/transformer_model.ipynb\" target=\"_parent\"><img src=\"https://colab.research.google.com/assets/colab-badge.svg\" alt=\"Open In Colab\"/></a>"
      ]
    },
    {
      "cell_type": "markdown",
      "metadata": {
        "id": "KcjG9IHxY4FR",
        "colab_type": "text"
      },
      "source": [
        "# **Transformer Model**"
      ]
    },
    {
      "cell_type": "code",
      "metadata": {
        "id": "f-V22nf0VyrX",
        "colab_type": "code",
        "colab": {}
      },
      "source": [
        "!pip install transformers"
      ],
      "execution_count": null,
      "outputs": []
    },
    {
      "cell_type": "code",
      "metadata": {
        "id": "ZEfT2pr4gSVU",
        "colab_type": "code",
        "colab": {}
      },
      "source": [
        "import torch\n",
        "from torchtext import data\n",
        "from transformers import BertTokenizer, BertModel\n",
        "import torch.nn as nn\n",
        "import torch.optim as optim\n",
        "from time import perf_counter\n",
        "import pandas as pd \n"
      ],
      "execution_count": 2,
      "outputs": []
    },
    {
      "cell_type": "code",
      "metadata": {
        "id": "RzKlvSX1np45",
        "colab_type": "code",
        "colab": {
          "base_uri": "https://localhost:8080/",
          "height": 66,
          "referenced_widgets": [
            "3bda330fed994429ae9eb8e100c75b1e",
            "f600477a1f104056b337f436a7b015b2",
            "c78ba73fc7424af99455e9147544c54f",
            "2b831313e3b04fd0b328da3c04211f32",
            "045c58ee94454c799ab192a7f25adaaa",
            "9a6dd78194ad43d2b962d70844a2543a",
            "f042693b3d0c4795bd4c03172502a74b",
            "acb8e687f865475ebc56c1564f6a6b0a"
          ]
        },
        "outputId": "e3ff3b28-7801-489f-e157-5f76b6bd4703"
      },
      "source": [
        "tokeniser = BertTokenizer.from_pretrained('bert-base-uncased')"
      ],
      "execution_count": 3,
      "outputs": [
        {
          "output_type": "display_data",
          "data": {
            "application/vnd.jupyter.widget-view+json": {
              "model_id": "3bda330fed994429ae9eb8e100c75b1e",
              "version_minor": 0,
              "version_major": 2
            },
            "text/plain": [
              "HBox(children=(FloatProgress(value=0.0, description='Downloading', max=231508.0, style=ProgressStyle(descripti…"
            ]
          },
          "metadata": {
            "tags": []
          }
        },
        {
          "output_type": "stream",
          "text": [
            "\n"
          ],
          "name": "stdout"
        }
      ]
    },
    {
      "cell_type": "markdown",
      "metadata": {
        "id": "_AK2J5sy047e",
        "colab_type": "text"
      },
      "source": [
        "# Creating the dataset"
      ]
    },
    {
      "cell_type": "code",
      "metadata": {
        "id": "MTnMGNbM030J",
        "colab_type": "code",
        "colab": {}
      },
      "source": [
        "def preprocess_tweet(tweet):\n",
        "  return tokeniser.convert_tokens_to_ids(tweet)"
      ],
      "execution_count": 4,
      "outputs": []
    },
    {
      "cell_type": "code",
      "metadata": {
        "id": "6BRNf7ATqBze",
        "colab_type": "code",
        "colab": {}
      },
      "source": [
        "\"\"\" \n",
        "Defines the fields for the dataset.\n",
        "The tweets will be tokenised and preprocessed here.\n",
        "\"\"\"\n",
        "\n",
        "TEXT = data.Field(tokenize = tokeniser.tokenize,\n",
        "                  sequential = True,\n",
        "                  use_vocab = False,\n",
        "                  batch_first = True,\n",
        "                  preprocessing = preprocess_tweet,\n",
        "                  init_token = tokeniser.cls_token_id,\n",
        "                  eos_token = tokeniser.eos_token_id,\n",
        "                  pad_token = tokeniser.pad_token_id,\n",
        "                  unk_token = tokeniser.unk_token_id)\n",
        "\n",
        "LABEL = data.LabelField(dtype = torch.long)\n",
        "\n",
        "fields = [('label', LABEL), ('tweet', TEXT)]"
      ],
      "execution_count": 5,
      "outputs": []
    },
    {
      "cell_type": "code",
      "metadata": {
        "id": "m4w2TT7hWrD-",
        "colab_type": "code",
        "colab": {
          "base_uri": "https://localhost:8080/",
          "height": 68
        },
        "outputId": "32567939-3c41-4efd-cf5d-f2a5127726fa"
      },
      "source": [
        "\"\"\"\n",
        "Creates dataset and splits it into training data and validation data.\n",
        "\"\"\"\n",
        "\n",
        "!curl --remote-name \\\n",
        "     -H 'Accept: application/vnd.github.v3.raw' \\\n",
        "     --location https://raw.githubusercontent.com/Mulac/TDA-SentimentAnalysis/master/data/0.75_min_confidence.csv\n",
        "\n",
        "tweet_data = data.TabularDataset(path = '0.75_min_confidence.csv', format = \"csv\", fields = fields, skip_header = True)\n",
        "train_data, valid_data = tweet_data.split()"
      ],
      "execution_count": 6,
      "outputs": [
        {
          "output_type": "stream",
          "text": [
            "  % Total    % Received % Xferd  Average Speed   Time    Time     Time  Current\n",
            "                                 Dload  Upload   Total   Spent    Left  Speed\n",
            "100 1207k  100 1207k    0     0  3136k      0 --:--:-- --:--:-- --:--:-- 3136k\n"
          ],
          "name": "stdout"
        }
      ]
    },
    {
      "cell_type": "code",
      "metadata": {
        "id": "-7GtBq2bdsW8",
        "colab_type": "code",
        "colab": {
          "base_uri": "https://localhost:8080/",
          "height": 153
        },
        "outputId": "6f1cf40c-5f30-46bd-a958-33f196151388"
      },
      "source": [
        "print(\"Training data size:\", len(train_data))\n",
        "print(\"Training data size:\", len(valid_data), \"\\n\")\n",
        "\n",
        "print(\"Row/Example object in the training data set:\", vars(train_data[0]))\n",
        "print(\"Converting the tweet text back into tokens gives:\", tokeniser.convert_ids_to_tokens(vars(train_data[0])['tweet']), \"\\n\")\n",
        "\n",
        "print(\"Row/Example object in the validation data set:\", vars(valid_data[0]))\n",
        "print(\"Converting the tweet text back into tokens gives:\", tokeniser.convert_ids_to_tokens(vars(valid_data[0])['tweet']))"
      ],
      "execution_count": 7,
      "outputs": [
        {
          "output_type": "stream",
          "text": [
            "Training data size: 7323\n",
            "Training data size: 3138 \n",
            "\n",
            "Row/Example object in the training data set: {'label': 'positive', 'tweet': [1030, 6892, 16558, 5657, 20666, 2549, 2013, 10108, 2000, 5887, 2050, 999, 1998, 2026, 12476, 3462, 16742, 2003, 2728, 999]}\n",
            "Converting the tweet text back into tokens gives: ['@', 'jet', '##bl', '##ue', '232', '##4', 'from', 'orlando', 'to', 'dc', '##a', '!', 'and', 'my', 'awesome', 'flight', 'attendant', 'is', 'robert', '!'] \n",
            "\n",
            "Row/Example object in the validation data set: {'label': 'negative', 'tweet': [1030, 4943, 11215, 2746, 2039, 2006, 1016, 8093, 2015, 2006, 1010, 2145, 4033, 1005, 1056, 5287, 2000, 1037, 16360]}\n",
            "Converting the tweet text back into tokens gives: ['@', 'southwest', '##air', 'coming', 'up', 'on', '2', '##hr', '##s', 'on', ',', 'still', 'haven', \"'\", 't', 'spoken', 'to', 'a', 'rep']\n"
          ],
          "name": "stdout"
        }
      ]
    },
    {
      "cell_type": "code",
      "metadata": {
        "id": "P6jnF9atpyDP",
        "colab_type": "code",
        "colab": {}
      },
      "source": [
        "\"\"\"\n",
        "Builds the vocab object for the tweet and label fields in the training data.\n",
        "\"\"\"\n",
        "TEXT.build_vocab(train_data)\n",
        "LABEL.build_vocab(train_data)"
      ],
      "execution_count": 8,
      "outputs": []
    },
    {
      "cell_type": "code",
      "metadata": {
        "id": "LlvUTFL9rVi7",
        "colab_type": "code",
        "colab": {
          "base_uri": "https://localhost:8080/",
          "height": 34
        },
        "outputId": "dce21ddc-58ae-4c38-8915-98ee9d038bfe"
      },
      "source": [
        "print(\"Mapping of tokens to numbers for the labels:\", LABEL.vocab.stoi)"
      ],
      "execution_count": 9,
      "outputs": [
        {
          "output_type": "stream",
          "text": [
            "Mapping of tokens to numbers for the labels: defaultdict(<function _default_unk_index at 0x7fc2c523de18>, {'negative': 0, 'neutral': 1, 'positive': 2})\n"
          ],
          "name": "stdout"
        }
      ]
    },
    {
      "cell_type": "code",
      "metadata": {
        "id": "Z6OVwliWXFD9",
        "colab_type": "code",
        "colab": {}
      },
      "source": [
        "\"\"\"\n",
        "Splitting the dataset into training and validation.\n",
        "Sorted by length of tweets, so each batch has similarly sized tweets.\n",
        "\"\"\"\n",
        "train_iter, valid_iter = data.BucketIterator.splits(\n",
        "    (train_data, valid_data), sort_key=lambda x: len(x.tweet), batch_size=32)"
      ],
      "execution_count": 10,
      "outputs": []
    },
    {
      "cell_type": "code",
      "metadata": {
        "id": "GQ1dFZYdCztb",
        "colab_type": "code",
        "colab": {
          "base_uri": "https://localhost:8080/",
          "height": 68
        },
        "outputId": "90c98ff6-2ac9-4ac6-a666-cb1733fea838"
      },
      "source": [
        "print(\"Number of batches (Training set):\", len(train_iter), \"\\n\")\n",
        "print(\"Number of batches (Validation set):\",len(valid_iter))"
      ],
      "execution_count": 11,
      "outputs": [
        {
          "output_type": "stream",
          "text": [
            "Number of batches (Training set): 229 \n",
            "\n",
            "Number of batches (Validation set): 99\n"
          ],
          "name": "stdout"
        }
      ]
    },
    {
      "cell_type": "markdown",
      "metadata": {
        "id": "bRnCtuttDKnP",
        "colab_type": "text"
      },
      "source": [
        "# Building the model"
      ]
    },
    {
      "cell_type": "markdown",
      "metadata": {
        "id": "75lLyiCNpbqb",
        "colab_type": "text"
      },
      "source": [
        "To get the embeddings for the tweets, we will use BERT (pre-trained **Bidirectional Encoder Representations from Transformers** by Google). These embeddings will be passed to the GRU (Gated Recurrent Unit)."
      ]
    },
    {
      "cell_type": "code",
      "metadata": {
        "id": "NnhxHR-IZARv",
        "colab_type": "code",
        "colab": {
          "base_uri": "https://localhost:8080/",
          "height": 115,
          "referenced_widgets": [
            "1090cdb77eff47ba97d693c9321f3d18",
            "3878e836d9a84421bbcd080128707ed5",
            "ca6a30929c3142c7959c58519edc5fae",
            "82a1873d875b4ecbb36766c0e77756af",
            "dfe9089ad34f45949487169dc2b0417d",
            "d256acb7683845f5bf5a312265d6957a",
            "020b166cabe44f899b970ef1f3419b2c",
            "828fab9dd7874ac881b7dd6ada0ae8dd",
            "650b47cf9349444c8df14d02c4093ee0",
            "13da8f89e50846778367ba6dcdb12d9a",
            "6667e6d9a12b49f7be83907e648e2e97",
            "b527893ec84543cc8ac9ac15bf70e56d",
            "a54fc13ef566465882d71715dc94c419",
            "59287aec3a1548bf99a724cd8caffee9",
            "db002ab89790449e85c112a1ea626857",
            "53450bc8edd8442fb45ec8eeac6b610f"
          ]
        },
        "outputId": "d2a65255-a829-49e3-a4b9-c31e0fc52132"
      },
      "source": [
        "bert = BertModel.from_pretrained('bert-base-uncased')"
      ],
      "execution_count": 12,
      "outputs": [
        {
          "output_type": "display_data",
          "data": {
            "application/vnd.jupyter.widget-view+json": {
              "model_id": "1090cdb77eff47ba97d693c9321f3d18",
              "version_minor": 0,
              "version_major": 2
            },
            "text/plain": [
              "HBox(children=(FloatProgress(value=0.0, description='Downloading', max=433.0, style=ProgressStyle(description_…"
            ]
          },
          "metadata": {
            "tags": []
          }
        },
        {
          "output_type": "stream",
          "text": [
            "\n"
          ],
          "name": "stdout"
        },
        {
          "output_type": "display_data",
          "data": {
            "application/vnd.jupyter.widget-view+json": {
              "model_id": "650b47cf9349444c8df14d02c4093ee0",
              "version_minor": 0,
              "version_major": 2
            },
            "text/plain": [
              "HBox(children=(FloatProgress(value=0.0, description='Downloading', max=440473133.0, style=ProgressStyle(descri…"
            ]
          },
          "metadata": {
            "tags": []
          }
        },
        {
          "output_type": "stream",
          "text": [
            "\n"
          ],
          "name": "stdout"
        }
      ]
    },
    {
      "cell_type": "code",
      "metadata": {
        "id": "n1NAXUajaPMB",
        "colab_type": "code",
        "colab": {}
      },
      "source": [
        "class Network(nn.Module):\n",
        "    def __init__(self, bert, hidden_dim, output_dim, num_layers, dropout):\n",
        "        \n",
        "        super().__init__()\n",
        "        \n",
        "        self.bert = bert\n",
        "        \n",
        "        embedding_dim = bert.config.to_dict()['hidden_size'] ## # size of input features for the GRU = embedding dimension size\n",
        "        \n",
        "        self.rnn = nn.GRU(input_size = embedding_dim, \n",
        "                          hidden_size = hidden_dim, \n",
        "                          num_layers = num_layers, \n",
        "                          bidirectional = True, \n",
        "                          batch_first = True, \n",
        "                          dropout = dropout)\n",
        "        \n",
        "        self.lin = nn.Linear(hidden_dim * 2, output_dim) #  bidirectional, so the hidden_size must be multiplied by 2 for the forward and backward pass\n",
        "        \n",
        "        self.dropout = nn.Dropout(dropout)\n",
        "        \n",
        "    def forward(self, tweet):\n",
        "                        \n",
        "        with torch.no_grad():            # don't want to train BERT\n",
        "            embedded = self.bert(tweet)[0]  ## gets embedding from BERT\n",
        "        \n",
        "        output_shape, hidden_state = self.rnn(embedded)   ## pass embedding into GRU\n",
        "        \n",
        "        hidden_state = self.dropout(torch.cat((hidden_state[-2,:,:], hidden_state[-1,:,:]), dim = 1)) ## bidirectional, so there are two hidden states\n",
        "\n",
        "        output = self.lin(hidden_state)  ## final linear layer gives 3 outputs for each tweet in the batch, representing negative, neutral, positive probabilities\n",
        "        \n",
        "        return output"
      ],
      "execution_count": 13,
      "outputs": []
    },
    {
      "cell_type": "markdown",
      "metadata": {
        "id": "JZ0TNRy8YSdl",
        "colab_type": "text"
      },
      "source": [
        "# Hyper-parameters and creating the model\n"
      ]
    },
    {
      "cell_type": "code",
      "metadata": {
        "id": "cuRAacD7iuwK",
        "colab_type": "code",
        "colab": {}
      },
      "source": [
        "HIDDEN_DIM = 256\n",
        "NUM_LAYERS = 2\n",
        "DROPOUT_PROB = 0.25\n",
        "OUTPUT_DIM= 3\n",
        "\n",
        "model = Network(bert, HIDDEN_DIM, OUTPUT_DIM, NUM_LAYERS, DROPOUT_PROB )"
      ],
      "execution_count": 14,
      "outputs": []
    },
    {
      "cell_type": "markdown",
      "metadata": {
        "id": "8W3Gx0cDjc4N",
        "colab_type": "text"
      },
      "source": [
        "We don't want to train the BERT model, so we set *requires_grad = false* for BERT's parameters."
      ]
    },
    {
      "cell_type": "code",
      "metadata": {
        "id": "ypIBsU2mjOEK",
        "colab_type": "code",
        "colab": {}
      },
      "source": [
        "for name, parameter in model.named_parameters():\n",
        "  if name.startswith('bert'):\n",
        "    parameter.requires_grad = False"
      ],
      "execution_count": 15,
      "outputs": []
    },
    {
      "cell_type": "markdown",
      "metadata": {
        "id": "bPj_MxBg0S9M",
        "colab_type": "text"
      },
      "source": [
        "# Training the model"
      ]
    },
    {
      "cell_type": "code",
      "metadata": {
        "id": "MFrCmyYUoC8r",
        "colab_type": "code",
        "colab": {}
      },
      "source": [
        "optimiser = optim.Adam(model.parameters())\n",
        "criterion = nn.CrossEntropyLoss() ## multiple classes, so cross entropy loss is appropriate"
      ],
      "execution_count": 16,
      "outputs": []
    },
    {
      "cell_type": "code",
      "metadata": {
        "id": "Cbrn05hf0Yi0",
        "colab_type": "code",
        "colab": {}
      },
      "source": [
        "\"\"\"\n",
        "Training loop\n",
        "\"\"\"\n",
        "def train():\n",
        "\n",
        "  model.train()\n",
        "  correct = 0\n",
        "  total = 0\n",
        "\n",
        "  for batch in train_iter:    \n",
        "\n",
        "    optimiser.zero_grad() \n",
        "\n",
        "    output = model(batch.tweet)\n",
        "\n",
        "    loss = criterion(output, batch.label)\n",
        "    loss.backward()\n",
        "\n",
        "    optimiser.step()\n",
        "\n",
        "    predictions = torch.argmax(output, dim=1) ## gets index of the highest probability sentiment for each tweet\n",
        "\n",
        "    total += len(batch.label)\n",
        "    correct += (predictions == batch.label).sum().item()\n",
        "\n",
        "  print(\"Training accuracy:\", (correct/total)*100)\n"
      ],
      "execution_count": 17,
      "outputs": []
    },
    {
      "cell_type": "code",
      "metadata": {
        "id": "K_sJciq340Ik",
        "colab_type": "code",
        "colab": {}
      },
      "source": [
        "def evaluate():\n",
        "\n",
        "  model.eval()\n",
        "  correct = 0\n",
        "  total = 0\n",
        "\n",
        "  with torch.no_grad():\n",
        "    for batch in valid_iter:\n",
        "\n",
        "      output = model(batch.tweet)\n",
        "\n",
        "      predictions = torch.argmax(output, dim=1)\n",
        "\n",
        "      total += len(batch.label)\n",
        "      correct += (predictions == batch.label).sum().item()\n",
        "\n",
        "  print(\"Validation accuracy:\", (correct/total)*100)\n"
      ],
      "execution_count": 18,
      "outputs": []
    },
    {
      "cell_type": "code",
      "metadata": {
        "id": "d5-LaYBq6iwm",
        "colab_type": "code",
        "colab": {
          "base_uri": "https://localhost:8080/",
          "height": 527
        },
        "outputId": "10abde74-5d72-44cf-ac00-02646afd6d8c"
      },
      "source": [
        "EPOCHS = 5\n",
        "\n",
        "for epoch in range(EPOCHS):\n",
        "\n",
        "  print(\"\\nEpoch\" ,(epoch+1))\n",
        "  start = perf_counter()\n",
        "  train()\n",
        "  end = perf_counter()\n",
        "  print(\"Epoch time:\", (end-start)/60, \"minutes \\n\")\n",
        "  evaluate()"
      ],
      "execution_count": 19,
      "outputs": [
        {
          "output_type": "stream",
          "text": [
            "\n",
            "Epoch 1\n",
            "Training accuracy: 80.02184896900178\n",
            "Epoch time: 17.66147328845 minutes \n",
            "\n",
            "Validation accuracy: 85.11790949649458\n",
            "\n",
            "Epoch 2\n",
            "Training accuracy: 85.83913696572442\n",
            "Epoch time: 17.888755843583336 minutes \n",
            "\n",
            "Validation accuracy: 85.50031867431484\n",
            "\n",
            "Epoch 3\n",
            "Training accuracy: 86.87696299330875\n",
            "Epoch time: 17.84626606416667 minutes \n",
            "\n",
            "Validation accuracy: 87.06182281708095\n",
            "\n",
            "Epoch 4\n",
            "Training accuracy: 87.83285538713642\n",
            "Epoch time: 17.939545806500004 minutes \n",
            "\n",
            "Validation accuracy: 87.69917144678139\n",
            "\n",
            "Epoch 5\n",
            "Training accuracy: 88.07865628840639\n",
            "Epoch time: 17.898101863183335 minutes \n",
            "\n",
            "Validation accuracy: 87.79477374123645\n"
          ],
          "name": "stdout"
        }
      ]
    }
  ]
}