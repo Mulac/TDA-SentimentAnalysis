{
 "cells": [
  {
   "cell_type": "code",
   "execution_count": 1,
   "metadata": {},
   "outputs": [],
   "source": [
    "import openai\n",
    "import pandas as pd"
   ]
  },
  {
   "cell_type": "code",
   "execution_count": 2,
   "metadata": {},
   "outputs": [],
   "source": [
    "openai.api_key = \"sk-X2HFbojkXplIAcfYQ5X946Dq62vbAEug5s5yvshh\""
   ]
  },
  {
   "cell_type": "code",
   "execution_count": 3,
   "metadata": {},
   "outputs": [],
   "source": [
    "intro = \"Below we classify tweets by their sentiment as either being a positive, negative or neutral\\n\"\n",
    "ex1 = \"Tweet: @VirginAmerica it's really aggressive to blast obnoxious 'entertainment' in your guests' faces &amp; they have little recourse\\\n",
    "\\nSentiment: Negative\\n\"\n",
    "ex2 = \"Tweet: @VirginAmerica I love the hipster innovation. You are a feel good brand.\\\n",
    "\\nSentiment: Positive\\n\""
   ]
  },
  {
   "cell_type": "code",
   "execution_count": 4,
   "metadata": {},
   "outputs": [],
   "source": [
    "test = \"@VirginAmerica this is great news! \\\n",
    "America could start flights to Hawaii by end of year http://t.co/r8p2Zy3fe4 via @Pacificbiznews\""
   ]
  },
  {
   "cell_type": "code",
   "execution_count": 5,
   "metadata": {},
   "outputs": [],
   "source": [
    "prompt = intro + ex1 + ex2 + \"Tweet: \" + test + \"\\nSentiment:\"\n",
    "response = openai.Completion.create(engine=\"davinci\", prompt=prompt, top_p=0.1, max_tokens=1)"
   ]
  },
  {
   "cell_type": "code",
   "execution_count": 6,
   "metadata": {},
   "outputs": [
    {
     "data": {
      "text/plain": [
       "<OpenAIObject text_completion id=cmpl-uuvl2DRPBG27kYj0iCzIM3SZ at 0x7f1bdfedc950> JSON: {\n",
       "  \"choices\": [\n",
       "    {\n",
       "      \"finish_reason\": \"length\",\n",
       "      \"index\": 0,\n",
       "      \"logprobs\": null,\n",
       "      \"text\": \" Positive\"\n",
       "    }\n",
       "  ],\n",
       "  \"created\": 1596374888,\n",
       "  \"id\": \"cmpl-uuvl2DRPBG27kYj0iCzIM3SZ\",\n",
       "  \"model\": \"davinci:2020-05-03\",\n",
       "  \"object\": \"text_completion\"\n",
       "}"
      ]
     },
     "execution_count": 6,
     "metadata": {},
     "output_type": "execute_result"
    }
   ],
   "source": [
    "response"
   ]
  },
  {
   "cell_type": "code",
   "execution_count": 7,
   "metadata": {},
   "outputs": [
    {
     "data": {
      "text/html": [
       "<div>\n",
       "<style scoped>\n",
       "    .dataframe tbody tr th:only-of-type {\n",
       "        vertical-align: middle;\n",
       "    }\n",
       "\n",
       "    .dataframe tbody tr th {\n",
       "        vertical-align: top;\n",
       "    }\n",
       "\n",
       "    .dataframe thead th {\n",
       "        text-align: right;\n",
       "    }\n",
       "</style>\n",
       "<table border=\"1\" class=\"dataframe\">\n",
       "  <thead>\n",
       "    <tr style=\"text-align: right;\">\n",
       "      <th></th>\n",
       "      <th>airline_sentiment</th>\n",
       "      <th>text</th>\n",
       "    </tr>\n",
       "  </thead>\n",
       "  <tbody>\n",
       "    <tr>\n",
       "      <th>0</th>\n",
       "      <td>neutral</td>\n",
       "      <td>@VirginAmerica What @dhepburn said.</td>\n",
       "    </tr>\n",
       "    <tr>\n",
       "      <th>1</th>\n",
       "      <td>negative</td>\n",
       "      <td>@VirginAmerica it's really aggressive to blast...</td>\n",
       "    </tr>\n",
       "    <tr>\n",
       "      <th>2</th>\n",
       "      <td>negative</td>\n",
       "      <td>@VirginAmerica and it's a really big bad thing...</td>\n",
       "    </tr>\n",
       "    <tr>\n",
       "      <th>3</th>\n",
       "      <td>negative</td>\n",
       "      <td>@VirginAmerica seriously would pay $30 a fligh...</td>\n",
       "    </tr>\n",
       "    <tr>\n",
       "      <th>4</th>\n",
       "      <td>positive</td>\n",
       "      <td>@VirginAmerica it was amazing, and arrived an ...</td>\n",
       "    </tr>\n",
       "    <tr>\n",
       "      <th>...</th>\n",
       "      <td>...</td>\n",
       "      <td>...</td>\n",
       "    </tr>\n",
       "    <tr>\n",
       "      <th>10456</th>\n",
       "      <td>negative</td>\n",
       "      <td>@AmericanAir thx for nothing on getting us out...</td>\n",
       "    </tr>\n",
       "    <tr>\n",
       "      <th>10457</th>\n",
       "      <td>negative</td>\n",
       "      <td>@AmericanAir my flight was Cancelled Flightled...</td>\n",
       "    </tr>\n",
       "    <tr>\n",
       "      <th>10458</th>\n",
       "      <td>negative</td>\n",
       "      <td>@AmericanAir leaving over 20 minutes Late Flig...</td>\n",
       "    </tr>\n",
       "    <tr>\n",
       "      <th>10459</th>\n",
       "      <td>neutral</td>\n",
       "      <td>@AmericanAir Please bring American Airlines to...</td>\n",
       "    </tr>\n",
       "    <tr>\n",
       "      <th>10460</th>\n",
       "      <td>negative</td>\n",
       "      <td>@AmericanAir you have my money, you change my ...</td>\n",
       "    </tr>\n",
       "  </tbody>\n",
       "</table>\n",
       "<p>10461 rows × 2 columns</p>\n",
       "</div>"
      ],
      "text/plain": [
       "      airline_sentiment                                               text\n",
       "0               neutral                @VirginAmerica What @dhepburn said.\n",
       "1              negative  @VirginAmerica it's really aggressive to blast...\n",
       "2              negative  @VirginAmerica and it's a really big bad thing...\n",
       "3              negative  @VirginAmerica seriously would pay $30 a fligh...\n",
       "4              positive  @VirginAmerica it was amazing, and arrived an ...\n",
       "...                 ...                                                ...\n",
       "10456          negative  @AmericanAir thx for nothing on getting us out...\n",
       "10457          negative  @AmericanAir my flight was Cancelled Flightled...\n",
       "10458          negative  @AmericanAir leaving over 20 minutes Late Flig...\n",
       "10459           neutral  @AmericanAir Please bring American Airlines to...\n",
       "10460          negative  @AmericanAir you have my money, you change my ...\n",
       "\n",
       "[10461 rows x 2 columns]"
      ]
     },
     "execution_count": 7,
     "metadata": {},
     "output_type": "execute_result"
    }
   ],
   "source": [
    "train = pd.read_csv(\"data/tweets.csv\")\n",
    "train"
   ]
  },
  {
   "cell_type": "code",
   "execution_count": 8,
   "metadata": {},
   "outputs": [],
   "source": [
    "def model(tweet):\n",
    "    \"\"\" Returns gtp-3 sentiment prediction from a tweet \"\"\"\n",
    "    \n",
    "    prompt = intro + ex1 + ex2 + \"Tweet: \" + tweet + \"\\nSentiment:\"\n",
    "    response = openai.Completion.create(engine=\"davinci\", prompt=prompt, temperature=0.7, max_tokens=1)\n",
    "    return response[\"choices\"][0][\"text\"].lower()[1:]"
   ]
  },
  {
   "cell_type": "code",
   "execution_count": 22,
   "metadata": {},
   "outputs": [
    {
     "name": "stdout",
     "output_type": "stream",
     "text": [
      "neutral positive @VirginAmerica What @dhepburn said.\n",
      "positive negative @VirginAmerica plus you've added commercials to the experience... tacky.\n",
      "neutral positive @VirginAmerica I didn't today... Must mean I need to take another trip!\n",
      "negative negative @VirginAmerica it's really aggressive to blast obnoxious \"entertainment\" in your guests' faces &amp; they have little recourse\n",
      "negative negative @VirginAmerica and it's a really big bad thing about it\n",
      "negative negative @VirginAmerica seriously would pay $30 a flight for seats that didn't have this playing.\n",
      "it's really the only bad thing about flying VA\n",
      "positive positive @VirginAmerica yes, nearly every time I fly VX this “ear worm” won’t go away :)\n",
      "neutral neutral @VirginAmerica Really missed a prime opportunity for Men Without Hats parody, there. https://t.co/mWpG7grEZP\n",
      "positive positive @virginamerica Well, I didn't…but NOW I DO! :-D\n",
      "positive positive @VirginAmerica it was amazing, and arrived an hour early. You're too good to me.\n"
     ]
    }
   ],
   "source": [
    "for ex in range(10):\n",
    "    text = train.iloc[ex].text\n",
    "    label = train.iloc[ex].airline_sentiment\n",
    "    \n",
    "    pred = model(text)\n",
    "    \n",
    "    print(label, pred, text)"
   ]
  }
 ],
 "metadata": {
  "kernelspec": {
   "display_name": "Python 3",
   "language": "python",
   "name": "python3"
  },
  "language_info": {
   "codemirror_mode": {
    "name": "ipython",
    "version": 3
   },
   "file_extension": ".py",
   "mimetype": "text/x-python",
   "name": "python",
   "nbconvert_exporter": "python",
   "pygments_lexer": "ipython3",
   "version": "3.7.6"
  }
 },
 "nbformat": 4,
 "nbformat_minor": 4
}
