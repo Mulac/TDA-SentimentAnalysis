{
  "nbformat": 4,
  "nbformat_minor": 0,
  "metadata": {
    "colab": {
      "name": "NaiveBayesFrank.ipynb",
      "provenance": [],
      "mount_file_id": "1EcZXP5TK1w9q1lKOc0tP0GlePmggUKiP",
      "authorship_tag": "ABX9TyPELQWGd3Vm9ZJDlF6dccin",
      "include_colab_link": true
    },
    "kernelspec": {
      "name": "python3",
      "display_name": "Python 3"
    }
  },
  "cells": [
    {
      "cell_type": "markdown",
      "metadata": {
        "id": "view-in-github",
        "colab_type": "text"
      },
      "source": [
        "<a href=\"https://colab.research.google.com/github/Mulac/TDA-SentimentAnalysis/blob/master/NaiveBayesFrank.ipynb\" target=\"_parent\"><img src=\"https://colab.research.google.com/assets/colab-badge.svg\" alt=\"Open In Colab\"/></a>"
      ]
    },
    {
      "cell_type": "code",
      "metadata": {
        "id": "9dIfTV3EnnSV",
        "colab_type": "code",
        "colab": {
          "base_uri": "https://localhost:8080/",
          "height": 35
        },
        "outputId": "a7958026-b7e9-472c-cdf3-476282b940a4"
      },
      "source": [
        "!pip3 install tweet-preprocessor \n",
        "import preprocessor as p\n",
        "import pandas as pd\n",
        "import numpy as np\n",
        "from sklearn.model_selection import train_test_split\n",
        "from sklearn.naive_bayes import MultinomialNB\n",
        "from sklearn.linear_model import SGDClassifier"
      ],
      "execution_count": 15,
      "outputs": [
        {
          "output_type": "stream",
          "text": [
            "Requirement already satisfied: tweet-preprocessor in /usr/local/lib/python3.6/dist-packages (0.6.0)\n"
          ],
          "name": "stdout"
        }
      ]
    },
    {
      "cell_type": "code",
      "metadata": {
        "id": "Ilukya7jlqHF",
        "colab_type": "code",
        "colab": {
          "base_uri": "https://localhost:8080/",
          "height": 35
        },
        "outputId": "404b7893-d8e9-4be6-a09c-ca6335be060b"
      },
      "source": [
        "\n",
        "df = pd.read_csv('/content/drive/My Drive/Colab Notebooks/Tweets.csv')\n",
        "text = df['text']\n",
        "cleaned_text = []\n",
        "for i in text:\n",
        "  #result = ''.join([j for j in i if not j.isdigit()])\n",
        "  cleaned_text.append(p.clean(i))\n",
        "print(p.clean('@VirginAmerica yes, nearly every time I fly VX this â€œear wormâ€ wonâ€™t go away :)'))\n",
        "#cleaned_text.shape\n",
        "#cleaned_text"
      ],
      "execution_count": 16,
      "outputs": [
        {
          "output_type": "stream",
          "text": [
            "yes, nearly every time I fly VX this ear worm wont go away\n"
          ],
          "name": "stdout"
        }
      ]
    },
    {
      "cell_type": "code",
      "metadata": {
        "id": "A89eLf9jmvo2",
        "colab_type": "code",
        "colab": {
          "base_uri": "https://localhost:8080/",
          "height": 35
        },
        "outputId": "d4dd9c35-fe78-4db3-be73-ae4b8d3663a6"
      },
      "source": [
        "from sklearn.feature_extraction.text import CountVectorizer \n",
        "\n",
        "cv = CountVectorizer()\n",
        "cv_score = cv.fit_transform(cleaned_text)\n",
        "#print(cv.get_feature_names())\n",
        "print(cv_score.shape)\n",
        "#print(cv.vocabulary_)\n",
        "\n",
        "\n"
      ],
      "execution_count": 17,
      "outputs": [
        {
          "output_type": "stream",
          "text": [
            "(14640, 10536)\n"
          ],
          "name": "stdout"
        }
      ]
    },
    {
      "cell_type": "code",
      "metadata": {
        "id": "Tskdk6dBTCbd",
        "colab_type": "code",
        "colab": {}
      },
      "source": [
        "x_train, x_test, y_train, y_test = train_test_split(cv_score, df.airline_sentiment,\n",
        "                                                    test_size = 0.3, random_state = 88)"
      ],
      "execution_count": 18,
      "outputs": []
    },
    {
      "cell_type": "code",
      "metadata": {
        "id": "3L9VExKaT86k",
        "colab_type": "code",
        "colab": {
          "base_uri": "https://localhost:8080/",
          "height": 35
        },
        "outputId": "eaa9d895-0091-43bb-b4ae-468b997025aa"
      },
      "source": [
        "x_train.shape"
      ],
      "execution_count": 19,
      "outputs": [
        {
          "output_type": "execute_result",
          "data": {
            "text/plain": [
              "(10248, 10536)"
            ]
          },
          "metadata": {
            "tags": []
          },
          "execution_count": 19
        }
      ]
    },
    {
      "cell_type": "code",
      "metadata": {
        "id": "x9XvaTm1UBcl",
        "colab_type": "code",
        "colab": {
          "base_uri": "https://localhost:8080/",
          "height": 35
        },
        "outputId": "b7d7dc4c-b013-403a-ea6b-4af6cb446968"
      },
      "source": [
        "x_test.shape"
      ],
      "execution_count": 20,
      "outputs": [
        {
          "output_type": "execute_result",
          "data": {
            "text/plain": [
              "(4392, 10536)"
            ]
          },
          "metadata": {
            "tags": []
          },
          "execution_count": 20
        }
      ]
    },
    {
      "cell_type": "code",
      "metadata": {
        "id": "tVNu79GqmyWN",
        "colab_type": "code",
        "colab": {}
      },
      "source": [
        "classifier = MultinomialNB()"
      ],
      "execution_count": 21,
      "outputs": []
    },
    {
      "cell_type": "code",
      "metadata": {
        "id": "9Rm0eNKNUW7E",
        "colab_type": "code",
        "colab": {
          "base_uri": "https://localhost:8080/",
          "height": 35
        },
        "outputId": "e311cb79-a8eb-41e0-863b-1e13331ad6ae"
      },
      "source": [
        "classifier.fit(x_train, y_train)"
      ],
      "execution_count": 22,
      "outputs": [
        {
          "output_type": "execute_result",
          "data": {
            "text/plain": [
              "MultinomialNB(alpha=1.0, class_prior=None, fit_prior=True)"
            ]
          },
          "metadata": {
            "tags": []
          },
          "execution_count": 22
        }
      ]
    },
    {
      "cell_type": "code",
      "metadata": {
        "id": "s4Ot1tTvUbPW",
        "colab_type": "code",
        "colab": {}
      },
      "source": [
        "number_correct = (y_test == classifier.predict(x_test)).sum()"
      ],
      "execution_count": 23,
      "outputs": []
    },
    {
      "cell_type": "code",
      "metadata": {
        "id": "RcjYcUTtVIVV",
        "colab_type": "code",
        "colab": {
          "base_uri": "https://localhost:8080/",
          "height": 35
        },
        "outputId": "22dac599-d3de-448e-b9ab-07835584bda0"
      },
      "source": [
        "number_correct"
      ],
      "execution_count": 24,
      "outputs": [
        {
          "output_type": "execute_result",
          "data": {
            "text/plain": [
              "3384"
            ]
          },
          "metadata": {
            "tags": []
          },
          "execution_count": 24
        }
      ]
    },
    {
      "cell_type": "code",
      "metadata": {
        "id": "U8Gsf-G4VTFY",
        "colab_type": "code",
        "colab": {}
      },
      "source": [
        "number_incorrect = y_test.size - number_correct"
      ],
      "execution_count": 25,
      "outputs": []
    },
    {
      "cell_type": "code",
      "metadata": {
        "id": "NfGwuMA0Vb8Y",
        "colab_type": "code",
        "colab": {
          "base_uri": "https://localhost:8080/",
          "height": 35
        },
        "outputId": "fc9fab4c-30d6-4eda-bae0-62baf3582316"
      },
      "source": [
        "number_incorrect"
      ],
      "execution_count": 26,
      "outputs": [
        {
          "output_type": "execute_result",
          "data": {
            "text/plain": [
              "1008"
            ]
          },
          "metadata": {
            "tags": []
          },
          "execution_count": 26
        }
      ]
    },
    {
      "cell_type": "code",
      "metadata": {
        "id": "vmOns_F1VepR",
        "colab_type": "code",
        "colab": {
          "base_uri": "https://localhost:8080/",
          "height": 35
        },
        "outputId": "3454f0e3-5bbe-4eb2-8a6b-4a9808a7fa89"
      },
      "source": [
        "classifier.score(x_test, y_test)"
      ],
      "execution_count": 27,
      "outputs": [
        {
          "output_type": "execute_result",
          "data": {
            "text/plain": [
              "0.7704918032786885"
            ]
          },
          "metadata": {
            "tags": []
          },
          "execution_count": 27
        }
      ]
    },
    {
      "cell_type": "code",
      "metadata": {
        "id": "HVyqwP02Spgg",
        "colab_type": "code",
        "colab": {
          "base_uri": "https://localhost:8080/",
          "height": 35
        },
        "outputId": "d009ecce-0640-473b-9544-1317ae4e26dd"
      },
      "source": [
        "print(classifier.predict(cv.transform(['boring'])))"
      ],
      "execution_count": 28,
      "outputs": [
        {
          "output_type": "stream",
          "text": [
            "['negative']\n"
          ],
          "name": "stdout"
        }
      ]
    },
    {
      "cell_type": "code",
      "metadata": {
        "id": "dzF8oX56iG63",
        "colab_type": "code",
        "colab": {}
      },
      "source": [
        ""
      ],
      "execution_count": 28,
      "outputs": []
    }
  ]
}