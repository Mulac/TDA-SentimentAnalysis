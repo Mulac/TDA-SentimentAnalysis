{
  "nbformat": 4,
  "nbformat_minor": 0,
  "metadata": {
    "colab": {
      "name": "preprocessing.ipynb",
      "provenance": [],
      "collapsed_sections": [],
      "mount_file_id": "1nICIPInRJiNv1hvznZtR0j5FBJMylwIU",
      "authorship_tag": "ABX9TyMbthj9hi3ePttxVcpJVbQr",
      "include_colab_link": true
    },
    "kernelspec": {
      "name": "python3",
      "display_name": "Python 3"
    }
  },
  "cells": [
    {
      "cell_type": "markdown",
      "metadata": {
        "id": "view-in-github",
        "colab_type": "text"
      },
      "source": [
        "<a href=\"https://colab.research.google.com/github/Mulac/TDA-SentimentAnalysis/blob/master/preprocessing_anna.ipynb\" target=\"_parent\"><img src=\"https://colab.research.google.com/assets/colab-badge.svg\" alt=\"Open In Colab\"/></a>"
      ]
    },
    {
      "cell_type": "code",
      "metadata": {
        "id": "B4NkOX9RY680",
        "colab_type": "code",
        "colab": {
          "base_uri": "https://localhost:8080/",
          "height": 51
        },
        "outputId": "d7552e05-7a91-492f-a419-f5d316410cfb"
      },
      "source": [
        "!pip install tweet-preprocessor\n",
        "!pip install wordsegment\n",
        "import pandas as pd\n",
        "import preprocessor as p \n",
        "from wordsegment import load, segment\n",
        "import string"
      ],
      "execution_count": null,
      "outputs": [
        {
          "output_type": "stream",
          "text": [
            "Requirement already satisfied: tweet-preprocessor in /usr/local/lib/python3.6/dist-packages (0.6.0)\n",
            "Requirement already satisfied: wordsegment in /usr/local/lib/python3.6/dist-packages (1.3.1)\n"
          ],
          "name": "stdout"
        }
      ]
    },
    {
      "cell_type": "code",
      "metadata": {
        "id": "Qup1KSqTZsET",
        "colab_type": "code",
        "colab": {}
      },
      "source": [
        "tweet_data = pd.read_csv(\"drive/My Drive/Tweets.csv\")\n",
        "punctuation = \"$%&'()*+,-./:;<=>@[\\]^_`{|}~\"\n",
        "punc_table = str.maketrans(dict.fromkeys(punctuation))"
      ],
      "execution_count": null,
      "outputs": []
    },
    {
      "cell_type": "code",
      "metadata": {
        "id": "V85r4fNXapoW",
        "colab_type": "code",
        "colab": {}
      },
      "source": [
        "p.set_options(p.OPT.URL, p.OPT.MENTION, p.OPT.NUMBER)\n",
        "load()"
      ],
      "execution_count": null,
      "outputs": []
    },
    {
      "cell_type": "code",
      "metadata": {
        "id": "Ss7J5k3wbLfw",
        "colab_type": "code",
        "colab": {}
      },
      "source": [
        "def clean(tweet):\n",
        "  tweet = p.clean(tweet)\n",
        "\n",
        "  hashtag = tweet.find(\"#\")\n",
        "\n",
        "  ## splits up each hashtag into words\n",
        "\n",
        "  while(hashtag != -1):\n",
        "    end_of_hashtag = tweet.find(' ', hashtag)\n",
        "\n",
        "    if end_of_hashtag == -1:\n",
        "      end_of_hashtag = len(tweet) - 1\n",
        "    \n",
        "    cleaned_hashtag = segment(tweet[hashtag:end_of_hashtag + 1])\n",
        "    cleaned_hashtag = ' '.join(cleaned_hashtag) + ' '\n",
        "    tweet = tweet.replace(tweet[hashtag:end_of_hashtag+1], cleaned_hashtag)\n",
        "    hashtag = tweet.find(\"#\")\n",
        "  tweet = tweet.translate(str.maketrans('','',punctuation))\n",
        "\n",
        "  return tweet"
      ],
      "execution_count": null,
      "outputs": []
    },
    {
      "cell_type": "code",
      "metadata": {
        "id": "ahsG9sxueVIB",
        "colab_type": "code",
        "colab": {}
      },
      "source": [
        "tweet_data['text'] = tweet_data['text'].apply(lambda x: clean(x))\n",
        "tweet_data = tweet_data.drop(columns = ['tweet_id', 'negativereason', 'airline', 'negativereason_confidence', 'airline_sentiment_gold', 'name', 'negativereason_gold', 'retweet_count', 'tweet_coord','tweet_created','tweet_location','user_timezone'])\n",
        "tweet_data.to_csv(\"cleaned_all_tweets.csv\")"
      ],
      "execution_count": null,
      "outputs": []
    }
  ]
}