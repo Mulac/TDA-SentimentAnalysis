{
 "cells": [
  {
   "cell_type": "markdown",
   "metadata": {},
   "source": [
    "<p>Aim is to produce some initial graphs giving indications of sentiment with very little analysis, including:\n",
    "<ul><li>The top x emojis associated with each airline (and their sentiment)</li>\n",
    "    <li>Proportion of tweets to each airline that include an emoji</li>\n",
    "    <li>Mean sentiment for each airline using the sentiment of the emojis tweeted at them</li>\n",
    "</ul>\n",
    "Also need to read up on the paper Calum sent.\n",
    "\n",
    "\n",
    "</p>"
   ]
  },
  {
   "cell_type": "markdown",
   "metadata": {},
   "source": [
    "<p>Import emosent package and read csv file</p>"
   ]
  },
  {
   "cell_type": "code",
   "execution_count": 79,
   "metadata": {
    "scrolled": true
   },
   "outputs": [],
   "source": [
    "from emosent import get_emoji_sentiment_rank\n",
    "import pandas\n",
    "import matplotlib\n",
    "import csv\n",
    "from emoji import UNICODE_EMOJI\n",
    "\n",
    "# open csv file\n",
    "tweets = []\n",
    "with open('Tweets.csv', newline='') as csvfile:\n",
    "    reader = csv.reader(csvfile, delimiter=',', quoting=csv.QUOTE_MINIMAL)\n",
    "    next(reader)\n",
    "    for row in reader:\n",
    "        filtered_row = [row[5], row[10]]\n",
    "        tweets.append(filtered_row)\n",
    "        \n",
    "\n",
    "#dataframe = pandas.read_csv(\"Tweets.csv\")\n",
    "#dataframe = dataframe[[\"airline\", \"text\"]]"
   ]
  },
  {
   "cell_type": "markdown",
   "metadata": {},
   "source": [
    "<p>Function to check if character is an emoji </p>"
   ]
  },
  {
   "cell_type": "code",
   "execution_count": 80,
   "metadata": {},
   "outputs": [],
   "source": [
    "def isEmoji(character):\n",
    "    try:\n",
    "        # if character can be found by emosent module return true\n",
    "        get_emoji_sentiment_rank(character)\n",
    "        return True\n",
    "    except KeyError:\n",
    "        return False"
   ]
  },
  {
   "cell_type": "markdown",
   "metadata": {},
   "source": [
    "<p>2D dictionary to store Tweet data for each airline</p>"
   ]
  },
  {
   "cell_type": "code",
   "execution_count": 81,
   "metadata": {},
   "outputs": [],
   "source": [
    "airlines = {}\n",
    "for airline in [\"Virgin America\", \"United\", \"Southwest\",\"Delta\", \"US Airways\", \"American\"]:\n",
    "    airlines[airline] = {\"emojis\":{},\n",
    "                          \"number_tweets\":0,\n",
    "                          \"number_emoji_tweets\":0,\n",
    "                          \"sentiment_sum\":0}"
   ]
  },
  {
   "cell_type": "markdown",
   "metadata": {},
   "source": [
    "<p>Iterate through tweets to count number of emojis per tweet, get sentiment data and sum this</p>"
   ]
  },
  {
   "cell_type": "code",
   "execution_count": 82,
   "metadata": {},
   "outputs": [],
   "source": [
    "for tweet in tweets:\n",
    "    airline = tweet[0]\n",
    "    # update overall tweet_count for airline\n",
    "    airlines[airline][\"number_tweets\"] += 1\n",
    "    emojis = {}\n",
    "    for character in tweet[1]:\n",
    "        if isEmoji(character):\n",
    "            if character in emojis:\n",
    "                emojis[character] += 1\n",
    "            else:\n",
    "                emojis[character] = 1\n",
    "    if emojis:\n",
    "        # update emoji_tweet counter for this airline\n",
    "        airlines[airline][\"number_emoji_tweets\"] += 1\n",
    "        emoji_sentiment_in_tweet = 0\n",
    "        num_emojis_in_tweet = 0\n",
    "        for emoji in emojis: \n",
    "            # multiply sentiment by number occurrences\n",
    "            emoji_sentiment_in_tweet += emojis[emoji] * get_emoji_sentiment_rank(emoji)['sentiment_score']\n",
    "            num_emojis_in_tweet += emojis[emoji]\n",
    "            \n",
    "            # add to dictionary of emojis tweeted at the airline\n",
    "            if emoji in airlines[airline][\"emojis\"]:\n",
    "                airlines[airline][\"emojis\"][emoji] += 1\n",
    "            else:\n",
    "                airlines[airline][\"emojis\"][emoji] = 1\n",
    "                \n",
    "        # average out by number of emojis\n",
    "        emoji_sentiment_in_tweet = emoji_sentiment_in_tweet / num_emojis_in_tweet\n",
    "        airlines[airline][\"sentiment_sum\"] += emoji_sentiment_in_tweet"
   ]
  },
  {
   "cell_type": "markdown",
   "metadata": {},
   "source": [
    "<p>Divide sentiment sum by number emoji tweets for each airline</p>"
   ]
  },
  {
   "cell_type": "code",
   "execution_count": 83,
   "metadata": {},
   "outputs": [],
   "source": [
    "for airline in airlines:\n",
    "    airlines[airline]['sentiment_sum'] = airlines[airline]['sentiment_sum'] / airlines[airline]['number_emoji_tweets']\n",
    "    airlines[airline]['emoji_proportion'] = 100 * airlines[airline]['number_emoji_tweets'] / airlines[airline]['number_tweets']"
   ]
  },
  {
   "cell_type": "markdown",
   "metadata": {},
   "source": [
    "<p>Output totals for each airline</p>"
   ]
  },
  {
   "cell_type": "code",
   "execution_count": 84,
   "metadata": {},
   "outputs": [
    {
     "name": "stdout",
     "output_type": "stream",
     "text": [
      "Virgin America\n",
      "     number_tweets 504\n",
      "     number_emoji_tweets 39\n",
      "     sentiment_sum 0.3945293706293706\n",
      "     emoji_proportion 7.738095238095238\n",
      "United\n",
      "     number_tweets 3822\n",
      "     number_emoji_tweets 62\n",
      "     sentiment_sum 0.28134408602150535\n",
      "     emoji_proportion 1.6221873364730508\n",
      "Southwest\n",
      "     number_tweets 2420\n",
      "     number_emoji_tweets 119\n",
      "     sentiment_sum 0.300231629061881\n",
      "     emoji_proportion 4.917355371900826\n",
      "Delta\n",
      "     number_tweets 2222\n",
      "     number_emoji_tweets 148\n",
      "     sentiment_sum 0.2690212837837837\n",
      "     emoji_proportion 6.660666066606661\n",
      "US Airways\n",
      "     number_tweets 2913\n",
      "     number_emoji_tweets 60\n",
      "     sentiment_sum 0.2015213888888889\n",
      "     emoji_proportion 2.059732234809475\n",
      "American\n",
      "     number_tweets 2759\n",
      "     number_emoji_tweets 63\n",
      "     sentiment_sum 0.19368439153439154\n",
      "     emoji_proportion 2.2834360275462124\n"
     ]
    }
   ],
   "source": [
    "for airline in airlines:\n",
    "    print(airline)\n",
    "    for key in airlines[airline]:\n",
    "        if key != \"emojis\":\n",
    "            print(\"    \", key, airlines[airline][key])\n"
   ]
  },
  {
   "cell_type": "markdown",
   "metadata": {},
   "source": [
    "<p>Format dict to dataframe - extremely messy method</p>"
   ]
  },
  {
   "cell_type": "code",
   "execution_count": 97,
   "metadata": {},
   "outputs": [
    {
     "data": {
      "text/html": [
       "<div>\n",
       "<style scoped>\n",
       "    .dataframe tbody tr th:only-of-type {\n",
       "        vertical-align: middle;\n",
       "    }\n",
       "\n",
       "    .dataframe tbody tr th {\n",
       "        vertical-align: top;\n",
       "    }\n",
       "\n",
       "    .dataframe thead th {\n",
       "        text-align: right;\n",
       "    }\n",
       "</style>\n",
       "<table border=\"1\" class=\"dataframe\">\n",
       "  <thead>\n",
       "    <tr style=\"text-align: right;\">\n",
       "      <th></th>\n",
       "      <th>Airline</th>\n",
       "      <th>number of tweets to airline</th>\n",
       "      <th>number of tweets with emojis</th>\n",
       "      <th>airline sentiment</th>\n",
       "      <th>proportion of tweets with emojis</th>\n",
       "    </tr>\n",
       "  </thead>\n",
       "  <tbody>\n",
       "    <tr>\n",
       "      <th>0</th>\n",
       "      <td>Virgin America</td>\n",
       "      <td>504</td>\n",
       "      <td>39</td>\n",
       "      <td>0.394529</td>\n",
       "      <td>7.738095</td>\n",
       "    </tr>\n",
       "    <tr>\n",
       "      <th>1</th>\n",
       "      <td>United</td>\n",
       "      <td>3822</td>\n",
       "      <td>62</td>\n",
       "      <td>0.281344</td>\n",
       "      <td>1.622187</td>\n",
       "    </tr>\n",
       "    <tr>\n",
       "      <th>2</th>\n",
       "      <td>Southwest</td>\n",
       "      <td>2420</td>\n",
       "      <td>119</td>\n",
       "      <td>0.300232</td>\n",
       "      <td>4.917355</td>\n",
       "    </tr>\n",
       "    <tr>\n",
       "      <th>3</th>\n",
       "      <td>Delta</td>\n",
       "      <td>2222</td>\n",
       "      <td>148</td>\n",
       "      <td>0.269021</td>\n",
       "      <td>6.660666</td>\n",
       "    </tr>\n",
       "    <tr>\n",
       "      <th>4</th>\n",
       "      <td>US Airways</td>\n",
       "      <td>2913</td>\n",
       "      <td>60</td>\n",
       "      <td>0.201521</td>\n",
       "      <td>2.059732</td>\n",
       "    </tr>\n",
       "    <tr>\n",
       "      <th>5</th>\n",
       "      <td>American</td>\n",
       "      <td>2759</td>\n",
       "      <td>63</td>\n",
       "      <td>0.193684</td>\n",
       "      <td>2.283436</td>\n",
       "    </tr>\n",
       "  </tbody>\n",
       "</table>\n",
       "</div>"
      ],
      "text/plain": [
       "          Airline  number of tweets to airline  number of tweets with emojis  \\\n",
       "0  Virgin America                          504                            39   \n",
       "1          United                         3822                            62   \n",
       "2       Southwest                         2420                           119   \n",
       "3           Delta                         2222                           148   \n",
       "4      US Airways                         2913                            60   \n",
       "5        American                         2759                            63   \n",
       "\n",
       "   airline sentiment  proportion of tweets with emojis  \n",
       "0           0.394529                          7.738095  \n",
       "1           0.281344                          1.622187  \n",
       "2           0.300232                          4.917355  \n",
       "3           0.269021                          6.660666  \n",
       "4           0.201521                          2.059732  \n",
       "5           0.193684                          2.283436  "
      ]
     },
     "execution_count": 97,
     "metadata": {},
     "output_type": "execute_result"
    }
   ],
   "source": [
    "num_tweets = []\n",
    "num_em_tweets = []\n",
    "sentiments = []\n",
    "proportion = []\n",
    "for airline in airlines:\n",
    "    num_tweets.append(airlines[airline]['number_tweets'])\n",
    "    num_em_tweets.append(airlines[airline]['number_emoji_tweets'])\n",
    "    sentiments.append(airlines[airline]['sentiment_sum'])\n",
    "    proportion.append(airlines[airline]['emoji_proportion'])\n",
    "trimmed = {'Airline' : list(airlines.keys()), 'number of tweets to airline':num_tweets,'number of tweets with emojis':num_em_tweets, 'airline sentiment':sentiments, 'proportion of tweets with emojis':proportion}\n",
    "df = pandas.DataFrame(data=trimmed)\n",
    "df"
   ]
  },
  {
   "cell_type": "markdown",
   "metadata": {},
   "source": [
    "<p>Chart showing proportion of Tweets at each airline that include emojis</p>"
   ]
  },
  {
   "cell_type": "code",
   "execution_count": 98,
   "metadata": {
    "scrolled": false
   },
   "outputs": [
    {
     "data": {
      "image/png": "[encoded data removed]",
      "text/plain": [
       "<Figure size 432x288 with 1 Axes>"
      ]
     },
     "metadata": {
      "needs_background": "light"
     },
     "output_type": "display_data"
    }
   ],
   "source": [
    "df.sort_values(by=['proportion of tweets with emojis'])\n",
    "proportion_ax = df.plot.bar(x='Airline', y='proportion of tweets with emojis', rot=0)"
   ]
  },
  {
   "cell_type": "code",
   "execution_count": 96,
   "metadata": {
    "scrolled": true
   },
   "outputs": [
    {
     "data": {
      "image/png": "[encoded data removed]",
      "text/plain": [
       "<Figure size 432x288 with 1 Axes>"
      ]
     },
     "metadata": {
      "needs_background": "light"
     },
     "output_type": "display_data"
    }
   ],
   "source": [
    "df.sort_values(by=['airline sentiment'])\n",
    "sentiment_ax = df.plot.bar(x='Airline', y='airline sentiment', rot=0)"
   ]
  },
  {
   "cell_type": "code",
   "execution_count": 99,
   "metadata": {},
   "outputs": [
    {
     "data": {
      "image/png": "[encoded data removed]",
      "text/plain": [
       "<Figure size 432x288 with 1 Axes>"
      ]
     },
     "metadata": {
      "needs_background": "light"
     },
     "output_type": "display_data"
    }
   ],
   "source": [
    "sentiment_emoji_ax = df.plot.scatter(x='proportion of tweets with emojis', y='airline sentiment')"
   ]
  }
 ],
 "metadata": {
  "kernelspec": {
   "display_name": "Python 3",
   "language": "python",
   "name": "python3"
  },
  "language_info": {
   "codemirror_mode": {
    "name": "ipython",
    "version": 3
   },
   "file_extension": ".py",
   "mimetype": "text/x-python",
   "name": "python",
   "nbconvert_exporter": "python",
   "pygments_lexer": "ipython3",
   "version": "3.8.2"
  }
 },
 "nbformat": 4,
 "nbformat_minor": 4
}
