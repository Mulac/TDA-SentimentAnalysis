{
 "cells": [
  {
   "cell_type": "markdown",
   "metadata": {},
   "source": [
    "<p>Aim is to produce some initial graphs giving indications of sentiment with very little analysis, including:\n",
    "<ul><li>The top x emojis associated with each airline (and their sentiment)</li>\n",
    "    <li>Proportion of tweets to each airline that include an emoji</li>\n",
    "    <li>Mean sentiment for each airline using the sentiment of the emojis tweeted at them</li>\n",
    "</ul>\n",
    "Also need to read up on the paper Calum sent.\n",
    "\n",
    "\n",
    "</p>"
   ]
  },
  {
   "cell_type": "markdown",
   "metadata": {},
   "source": [
    "<p>Import emosent package and read csv file</p>"
   ]
  },
  {
   "cell_type": "code",
   "execution_count": 38,
   "metadata": {
    "scrolled": true
   },
   "outputs": [
    {
     "name": "stdout",
     "output_type": "stream",
     "text": [
      "['Virgin America', '@VirginAmerica SFO-PDX schedule is still MIA.']\n",
      "\n",
      "['Virgin America', \"@VirginAmerica So excited for my first cross country flight LAX to MCO I've heard nothing but great things about Virgin America. #29DaysToGo\"]\n",
      "\n",
      "['Virgin America', \"@VirginAmerica  I flew from NYC to SFO last week and couldn't fully sit in my seat due to two large gentleman on either side of me. HELP!\"]\n",
      "\n",
      "['Virgin America', 'I ❤️ flying @VirginAmerica. ☺️👍']\n",
      "\n",
      "['Virgin America', '@VirginAmerica you know what would be amazingly awesome? BOS-FLL PLEASE!!!!!!! I want to fly with only you.']\n",
      "\n"
     ]
    }
   ],
   "source": [
    "from emosent import get_emoji_sentiment_rank\n",
    "import pandas\n",
    "import csv\n",
    "from emoji import UNICODE_EMOJI\n",
    "\n",
    "# open csv file\n",
    "tweets = []\n",
    "with open('Tweets.csv', newline='') as csvfile:\n",
    "    reader = csv.reader(csvfile, delimiter=',', quoting=csv.QUOTE_MINIMAL)\n",
    "    next(reader)\n",
    "    for row in reader:\n",
    "        filtered_row = [row[5], row[10]]\n",
    "        tweets.append(filtered_row)\n",
    "        \n",
    "\"\"\"\n",
    "dataframe = pandas.read_csv(\"Tweets.csv\")\n",
    "dataframe = dataframe[[\"airline\", \"text\"]]\n",
    "\"\"\"\n",
    "\n",
    "for x in range(15, 20):\n",
    "    print(tweets[x])\n",
    "    print(\"\")"
   ]
  },
  {
   "cell_type": "markdown",
   "metadata": {},
   "source": [
    "<p>Function to check if character is an emoji </p>"
   ]
  },
  {
   "cell_type": "code",
   "execution_count": 45,
   "metadata": {},
   "outputs": [],
   "source": [
    "def isEmoji(character):\n",
    "    try:\n",
    "        # if character can be found by emosent module return true\n",
    "        get_emoji_sentiment_rank(character)\n",
    "        return True\n",
    "    except KeyError:\n",
    "        return False"
   ]
  },
  {
   "cell_type": "markdown",
   "metadata": {},
   "source": [
    "<p>2D dictionary to store Tweet data for each airline</p>"
   ]
  },
  {
   "cell_type": "code",
   "execution_count": 46,
   "metadata": {},
   "outputs": [],
   "source": [
    "airlines = {}\n",
    "for airline in [\"Virgin America\", \"United\", \"Southwest\",\"Delta\", \"US Airways\", \"American\"]:\n",
    "    airlines[airline] = {\"emojis\":{},\n",
    "                          \"number_tweets\":0,\n",
    "                          \"number_emoji_tweets\":0,\n",
    "                          \"sentiment_sum\":0}"
   ]
  },
  {
   "cell_type": "markdown",
   "metadata": {},
   "source": [
    "<p>Iterate through tweets to count number of emojis per tweet, get sentiment data and sum this</p>"
   ]
  },
  {
   "cell_type": "code",
   "execution_count": 50,
   "metadata": {},
   "outputs": [],
   "source": [
    "for tweet in tweets:\n",
    "    airline = tweet[0]\n",
    "    # update overall tweet_count for airline\n",
    "    airlines[airline][\"number_tweets\"] += 1\n",
    "    emojis = {}\n",
    "    for character in tweet[1]:\n",
    "        if isEmoji(character):\n",
    "            if character in emojis:\n",
    "                emojis[character] += 1\n",
    "            else:\n",
    "                emojis[character] = 1\n",
    "    if emojis:\n",
    "        # update emoji_tweet counter for this airline\n",
    "        airlines[airline][\"number_emoji_tweets\"] += 1\n",
    "        emoji_sentiment_in_tweet = 0\n",
    "        num_emojis_in_tweet = 0\n",
    "        for emoji in emojis: \n",
    "            # multiply sentiment by number occurrences\n",
    "            emoji_sentiment_in_tweet += emojis[emoji] * get_emoji_sentiment_rank(emoji)['sentiment_score']\n",
    "            num_emojis_in_tweet += emojis[emoji]\n",
    "            \n",
    "            # add to dictionary of emojis tweeted at the airline\n",
    "            if emoji in airlines[airline][\"emojis\"]:\n",
    "                airlines[airline][\"emojis\"][emoji] += 1\n",
    "            else:\n",
    "                airlines[airline][\"emojis\"][emoji] = 1\n",
    "                \n",
    "        # average out by number of emojis\n",
    "        emoji_sentiment_in_tweet = emoji_sentiment_in_tweet / num_emojis_in_tweet\n",
    "        airlines[airline][\"sentiment_sum\"] += emoji_sentiment_in_tweet"
   ]
  },
  {
   "cell_type": "markdown",
   "metadata": {},
   "source": [
    "<p>Divide sentiment sum by number emoji tweets for each airline</p>"
   ]
  },
  {
   "cell_type": "code",
   "execution_count": 51,
   "metadata": {},
   "outputs": [],
   "source": [
    "for airline in airlines:\n",
    "    airlines[airline]['sentiment_sum'] = airlines[airline]['sentiment_sum'] / airlines[airline]['number_emoji_tweets']"
   ]
  },
  {
   "cell_type": "markdown",
   "metadata": {},
   "source": [
    "<p>Output totals for each airline</p>"
   ]
  },
  {
   "cell_type": "code",
   "execution_count": 59,
   "metadata": {},
   "outputs": [
    {
     "name": "stdout",
     "output_type": "stream",
     "text": [
      "Virgin America\n",
      "     number_tweets 1512\n",
      "     number_emoji_tweets 117\n",
      "     sentiment_sum 0.3945293706293708\n",
      "United\n",
      "     number_tweets 11466\n",
      "     number_emoji_tweets 186\n",
      "     sentiment_sum 0.28134408602150535\n",
      "Southwest\n",
      "     number_tweets 7260\n",
      "     number_emoji_tweets 357\n",
      "     sentiment_sum 0.30023162906188106\n",
      "Delta\n",
      "     number_tweets 6666\n",
      "     number_emoji_tweets 444\n",
      "     sentiment_sum 0.2690212837837838\n",
      "US Airways\n",
      "     number_tweets 8739\n",
      "     number_emoji_tweets 180\n",
      "     sentiment_sum 0.20152138888888874\n",
      "American\n",
      "     number_tweets 8277\n",
      "     number_emoji_tweets 189\n",
      "     sentiment_sum 0.1936843915343915\n"
     ]
    }
   ],
   "source": [
    "for airline in airlines:\n",
    "    print(airline)\n",
    "    for key in airlines[airline]:\n",
    "        if key != \"emojis\":\n",
    "            print(\"    \", key, airlines[airline][key])\n"
   ]
  },
  {
   "cell_type": "code",
   "execution_count": null,
   "metadata": {},
   "outputs": [],
   "source": []
  }
 ],
 "metadata": {
  "kernelspec": {
   "display_name": "Python 3",
   "language": "python",
   "name": "python3"
  },
  "language_info": {
   "codemirror_mode": {
    "name": "ipython",
    "version": 3
   },
   "file_extension": ".py",
   "mimetype": "text/x-python",
   "name": "python",
   "nbconvert_exporter": "python",
   "pygments_lexer": "ipython3",
   "version": "3.8.2"
  }
 },
 "nbformat": 4,
 "nbformat_minor": 4
}
