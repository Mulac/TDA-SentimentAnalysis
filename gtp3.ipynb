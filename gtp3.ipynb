{
 "cells": [
  {
   "cell_type": "code",
   "execution_count": 259,
   "metadata": {},
   "outputs": [],
   "source": [
    "import openai\n",
    "import pandas as pd\n",
    "import numpy as np"
   ]
  },
  {
   "cell_type": "code",
   "execution_count": 260,
   "metadata": {},
   "outputs": [],
   "source": [
    "openai.api_key = \"sk-X2HFbojkXplIAcfYQ5X946Dq62vbAEug5s5yvshh\""
   ]
  },
  {
   "cell_type": "markdown",
   "metadata": {},
   "source": [
    "### Create prompt"
   ]
  },
  {
   "cell_type": "code",
   "execution_count": 261,
   "metadata": {},
   "outputs": [],
   "source": [
    "intro = \"Below we classify tweets by their sentiment as either being Positive, Negative or Neutral\\n\"\n",
    "ex1 = \"Tweet: @VirginAmerica it's really aggressive to blast obnoxious 'entertainment' in your guests' faces &amp; they have little recourse\\\n",
    "\\nSentiment: Negative\\n\"\n",
    "ex2 = \"Tweet: @united Just submitted my response on the link you sent.\\\n",
    "\\nSentiment: Neutral\\n\"\n",
    "ex3 = \"Tweet: @VirginAmerica I love the hipster innovation. You are a feel good brand.\\\n",
    "\\nSentiment: Positive\\n\""
   ]
  },
  {
   "cell_type": "markdown",
   "metadata": {},
   "source": [
    "#### [dummy call to the api]"
   ]
  },
  {
   "cell_type": "code",
   "execution_count": 262,
   "metadata": {},
   "outputs": [],
   "source": [
    "test = \"@VirginAmerica this is great news! \\\n",
    "America could start flights to Hawaii by end of year http://t.co/r8p2Zy3fe4 via @Pacificbiznews\""
   ]
  },
  {
   "cell_type": "code",
   "execution_count": 263,
   "metadata": {},
   "outputs": [
    {
     "data": {
      "text/plain": [
       "' Positive'"
      ]
     },
     "execution_count": 263,
     "metadata": {},
     "output_type": "execute_result"
    }
   ],
   "source": [
    "prompt = intro + ex1 + ex2 + ex3 + \"Tweet: \" + test + \"\\nSentiment:\"\n",
    "response = openai.Completion.create(engine=\"davinci\",\n",
    "                                    prompt=prompt,\n",
    "                                    top_p=0.1,\n",
    "                                    logprobs=3,\n",
    "                                    max_tokens=1)\n",
    "response['choices'][0]['text']"
   ]
  },
  {
   "cell_type": "markdown",
   "metadata": {},
   "source": [
    "### Grab data and sample a proportion randomly"
   ]
  },
  {
   "cell_type": "code",
   "execution_count": 294,
   "metadata": {},
   "outputs": [
    {
     "data": {
      "text/html": [
       "<div>\n",
       "<style scoped>\n",
       "    .dataframe tbody tr th:only-of-type {\n",
       "        vertical-align: middle;\n",
       "    }\n",
       "\n",
       "    .dataframe tbody tr th {\n",
       "        vertical-align: top;\n",
       "    }\n",
       "\n",
       "    .dataframe thead th {\n",
       "        text-align: right;\n",
       "    }\n",
       "</style>\n",
       "<table border=\"1\" class=\"dataframe\">\n",
       "  <thead>\n",
       "    <tr style=\"text-align: right;\">\n",
       "      <th></th>\n",
       "      <th>airline_sentiment</th>\n",
       "      <th>text</th>\n",
       "    </tr>\n",
       "  </thead>\n",
       "  <tbody>\n",
       "    <tr>\n",
       "      <th>0</th>\n",
       "      <td>negative</td>\n",
       "      <td>@AmericanAir We all did! Skipper's walk-around...</td>\n",
       "    </tr>\n",
       "    <tr>\n",
       "      <th>1</th>\n",
       "      <td>negative</td>\n",
       "      <td>@SouthwestAir I have a voucher w swa that expi...</td>\n",
       "    </tr>\n",
       "    <tr>\n",
       "      <th>2</th>\n",
       "      <td>neutral</td>\n",
       "      <td>@united Is a snowboard boot bag included in th...</td>\n",
       "    </tr>\n",
       "    <tr>\n",
       "      <th>3</th>\n",
       "      <td>neutral</td>\n",
       "      <td>@JetBlue plans to offer direct flights from #J...</td>\n",
       "    </tr>\n",
       "    <tr>\n",
       "      <th>4</th>\n",
       "      <td>negative</td>\n",
       "      <td>@SouthwestAir yes we did file a report and wer...</td>\n",
       "    </tr>\n",
       "    <tr>\n",
       "      <th>...</th>\n",
       "      <td>...</td>\n",
       "      <td>...</td>\n",
       "    </tr>\n",
       "    <tr>\n",
       "      <th>14635</th>\n",
       "      <td>positive</td>\n",
       "      <td>@USAirways - Huge props to Parizad at checkin ...</td>\n",
       "    </tr>\n",
       "    <tr>\n",
       "      <th>14636</th>\n",
       "      <td>neutral</td>\n",
       "      <td>@AmericanAir oh, yeah. I guess those are two d...</td>\n",
       "    </tr>\n",
       "    <tr>\n",
       "      <th>14637</th>\n",
       "      <td>neutral</td>\n",
       "      <td>@SouthwestAir think you need to follow me for ...</td>\n",
       "    </tr>\n",
       "    <tr>\n",
       "      <th>14638</th>\n",
       "      <td>negative</td>\n",
       "      <td>@united customer service is atrocious! You hav...</td>\n",
       "    </tr>\n",
       "    <tr>\n",
       "      <th>14639</th>\n",
       "      <td>neutral</td>\n",
       "      <td>@SouthwestAir So there were 134 early-bird che...</td>\n",
       "    </tr>\n",
       "  </tbody>\n",
       "</table>\n",
       "<p>14640 rows × 2 columns</p>\n",
       "</div>"
      ],
      "text/plain": [
       "      airline_sentiment                                               text\n",
       "0              negative  @AmericanAir We all did! Skipper's walk-around...\n",
       "1              negative  @SouthwestAir I have a voucher w swa that expi...\n",
       "2               neutral  @united Is a snowboard boot bag included in th...\n",
       "3               neutral  @JetBlue plans to offer direct flights from #J...\n",
       "4              negative  @SouthwestAir yes we did file a report and wer...\n",
       "...                 ...                                                ...\n",
       "14635          positive  @USAirways - Huge props to Parizad at checkin ...\n",
       "14636           neutral  @AmericanAir oh, yeah. I guess those are two d...\n",
       "14637           neutral  @SouthwestAir think you need to follow me for ...\n",
       "14638          negative  @united customer service is atrocious! You hav...\n",
       "14639           neutral  @SouthwestAir So there were 134 early-bird che...\n",
       "\n",
       "[14640 rows x 2 columns]"
      ]
     },
     "execution_count": 294,
     "metadata": {},
     "output_type": "execute_result"
    }
   ],
   "source": [
    "sample_fraction = 1\n",
    "dataset_file = \"data/0.0_min_confidence.csv\"\n",
    "\n",
    "train = pd.read_csv(dataset_file)\n",
    "train = train.sample(frac=sample_fraction).reset_index(drop=True)\n",
    "train"
   ]
  },
  {
   "cell_type": "markdown",
   "metadata": {},
   "source": [
    "### Run inference using GPT-3 API"
   ]
  },
  {
   "cell_type": "code",
   "execution_count": 295,
   "metadata": {},
   "outputs": [],
   "source": [
    "def model(tweet):\n",
    "    \"\"\" Returns gtp-3 sentiment prediction from a tweet \"\"\"\n",
    "    prompt = intro + ex1 + ex2 + \"Tweet: \" + tweet + \"\\nSentiment:\"\n",
    "    response = openai.Completion.create(engine=\"davinci\",\n",
    "                                        prompt=prompt,\n",
    "                                        temperature=0.05,\n",
    "                                        logprobs=3,\n",
    "                                        max_tokens=1)\n",
    "    return pd.Series(\n",
    "        dict(response['choices'][0]['logprobs']['top_logprobs'][0]))"
   ]
  },
  {
   "cell_type": "code",
   "execution_count": 296,
   "metadata": {},
   "outputs": [],
   "source": [
    "def sigmoid(x):\n",
    "    return 2 / (1 + np.exp(-x))"
   ]
  },
  {
   "cell_type": "code",
   "execution_count": 297,
   "metadata": {},
   "outputs": [],
   "source": [
    "def evaluate(x):\n",
    "    return x.idxmax().lower()[1:]"
   ]
  },
  {
   "cell_type": "code",
   "execution_count": null,
   "metadata": {},
   "outputs": [],
   "source": [
    "probs = train['text'].apply(model).applymap(sigmoid)\n",
    "probs['prediction'] = probs.apply(evaluate, axis=1)\n",
    "result = train.merge(probs, left_index=True, right_index=True)"
   ]
  },
  {
   "cell_type": "markdown",
   "metadata": {},
   "source": [
    "### Calculate the accuracy"
   ]
  },
  {
   "cell_type": "code",
   "execution_count": null,
   "metadata": {},
   "outputs": [],
   "source": [
    "loss = result['airline_sentiment'] == result['prediction']\n",
    "loss.agg('sum') / loss.size"
   ]
  },
  {
   "cell_type": "markdown",
   "metadata": {},
   "source": [
    "#### [output the predicted labels to a csv]"
   ]
  },
  {
   "cell_type": "code",
   "execution_count": null,
   "metadata": {},
   "outputs": [],
   "source": [
    "output = dataset.loc[:, dataset.columns.isin(['text', 'prediction'])]\n",
    "output.to_csv(\"data/gtp_predictions.csv\", index=False)"
   ]
  }
 ],
 "metadata": {
  "kernelspec": {
   "display_name": "Python 3",
   "language": "python",
   "name": "python3"
  },
  "language_info": {
   "codemirror_mode": {
    "name": "ipython",
    "version": 3
   },
   "file_extension": ".py",
   "mimetype": "text/x-python",
   "name": "python",
   "nbconvert_exporter": "python",
   "pygments_lexer": "ipython3",
   "version": "3.7.6"
  }
 },
 "nbformat": 4,
 "nbformat_minor": 4
}
