{
 "cells": [
  {
   "cell_type": "code",
   "execution_count": 1,
   "metadata": {},
   "outputs": [],
   "source": [
    "import openai\n",
    "import pandas as pd\n",
    "import numpy as np"
   ]
  },
  {
   "cell_type": "code",
   "execution_count": 2,
   "metadata": {},
   "outputs": [],
   "source": [
    "openai.api_key = \"sk-X2HFbojkXplIAcfYQ5X946Dq62vbAEug5s5yvshh\""
   ]
  },
  {
   "cell_type": "markdown",
   "metadata": {},
   "source": [
    "### Create prompt"
   ]
  },
  {
   "cell_type": "code",
   "execution_count": 3,
   "metadata": {},
   "outputs": [],
   "source": [
    "intro = \"Below we classify tweets by their sentiment as either being Positive, Negative or Neutral\\n\"\n",
    "ex1 = \"Tweet: @VirginAmerica it's really aggressive to blast obnoxious 'entertainment' in your guests' faces &amp; they have little recourse\\\n",
    "\\nSentiment: Negative\\n\"\n",
    "ex2 = \"Tweet: @united Just submitted my response on the link you sent.\\\n",
    "\\nSentiment: Neutral\\n\"\n",
    "ex3 = \"Tweet: @VirginAmerica I love the hipster innovation. You are a feel good brand.\\\n",
    "\\nSentiment: Positive\\n\""
   ]
  },
  {
   "cell_type": "markdown",
   "metadata": {},
   "source": [
    "#### [dummy call to the api]"
   ]
  },
  {
   "cell_type": "code",
   "execution_count": 4,
   "metadata": {},
   "outputs": [],
   "source": [
    "test = \"@VirginAmerica this is great news! \\\n",
    "America could start flights to Hawaii by end of year http://t.co/r8p2Zy3fe4 via @Pacificbiznews\""
   ]
  },
  {
   "cell_type": "code",
   "execution_count": 5,
   "metadata": {},
   "outputs": [
    {
     "data": {
      "text/plain": [
       "' Positive'"
      ]
     },
     "execution_count": 5,
     "metadata": {},
     "output_type": "execute_result"
    }
   ],
   "source": [
    "prompt = intro + ex1 + ex2 + ex3 + \"Tweet: \" + test + \"\\nSentiment:\"\n",
    "response = openai.Completion.create(engine=\"davinci\",\n",
    "                                    prompt=prompt,\n",
    "                                    top_p=0.1,\n",
    "                                    logprobs=3,\n",
    "                                    max_tokens=1)\n",
    "response['choices'][0]['text']"
   ]
  },
  {
   "cell_type": "markdown",
   "metadata": {},
   "source": [
    "### Grab data and sample a proportion randomly"
   ]
  },
  {
   "cell_type": "code",
   "execution_count": 12,
   "metadata": {},
   "outputs": [
    {
     "data": {
      "text/html": [
       "<div>\n",
       "<style scoped>\n",
       "    .dataframe tbody tr th:only-of-type {\n",
       "        vertical-align: middle;\n",
       "    }\n",
       "\n",
       "    .dataframe tbody tr th {\n",
       "        vertical-align: top;\n",
       "    }\n",
       "\n",
       "    .dataframe thead th {\n",
       "        text-align: right;\n",
       "    }\n",
       "</style>\n",
       "<table border=\"1\" class=\"dataframe\">\n",
       "  <thead>\n",
       "    <tr style=\"text-align: right;\">\n",
       "      <th></th>\n",
       "      <th>airline_sentiment</th>\n",
       "      <th>text</th>\n",
       "    </tr>\n",
       "  </thead>\n",
       "  <tbody>\n",
       "    <tr>\n",
       "      <th>0</th>\n",
       "      <td>negative</td>\n",
       "      <td>@USAirways : Premier provider of missed connec...</td>\n",
       "    </tr>\n",
       "    <tr>\n",
       "      <th>1</th>\n",
       "      <td>positive</td>\n",
       "      <td>@SouthwestAir is making dreams come true with ...</td>\n",
       "    </tr>\n",
       "    <tr>\n",
       "      <th>2</th>\n",
       "      <td>negative</td>\n",
       "      <td>@USAirways they have all of this at hotels. St...</td>\n",
       "    </tr>\n",
       "    <tr>\n",
       "      <th>3</th>\n",
       "      <td>negative</td>\n",
       "      <td>@SouthwestAir had to Cancelled Flight my fligh...</td>\n",
       "    </tr>\n",
       "    <tr>\n",
       "      <th>4</th>\n",
       "      <td>negative</td>\n",
       "      <td>@AmericanAir Right. But more than two hours La...</td>\n",
       "    </tr>\n",
       "    <tr>\n",
       "      <th>...</th>\n",
       "      <td>...</td>\n",
       "      <td>...</td>\n",
       "    </tr>\n",
       "    <tr>\n",
       "      <th>100</th>\n",
       "      <td>negative</td>\n",
       "      <td>@united wont transfer flight ticket to accompa...</td>\n",
       "    </tr>\n",
       "    <tr>\n",
       "      <th>101</th>\n",
       "      <td>negative</td>\n",
       "      <td>@SouthwestAir went to purchase a flight that I...</td>\n",
       "    </tr>\n",
       "    <tr>\n",
       "      <th>102</th>\n",
       "      <td>negative</td>\n",
       "      <td>@JetBlue says the person who hasn't been delay...</td>\n",
       "    </tr>\n",
       "    <tr>\n",
       "      <th>103</th>\n",
       "      <td>negative</td>\n",
       "      <td>@usairways Why are we waiting 40 min so far fo...</td>\n",
       "    </tr>\n",
       "    <tr>\n",
       "      <th>104</th>\n",
       "      <td>negative</td>\n",
       "      <td>@united there is a disconnect between your PR ...</td>\n",
       "    </tr>\n",
       "  </tbody>\n",
       "</table>\n",
       "<p>105 rows × 2 columns</p>\n",
       "</div>"
      ],
      "text/plain": [
       "    airline_sentiment                                               text\n",
       "0            negative  @USAirways : Premier provider of missed connec...\n",
       "1            positive  @SouthwestAir is making dreams come true with ...\n",
       "2            negative  @USAirways they have all of this at hotels. St...\n",
       "3            negative  @SouthwestAir had to Cancelled Flight my fligh...\n",
       "4            negative  @AmericanAir Right. But more than two hours La...\n",
       "..                ...                                                ...\n",
       "100          negative  @united wont transfer flight ticket to accompa...\n",
       "101          negative  @SouthwestAir went to purchase a flight that I...\n",
       "102          negative  @JetBlue says the person who hasn't been delay...\n",
       "103          negative  @usairways Why are we waiting 40 min so far fo...\n",
       "104          negative  @united there is a disconnect between your PR ...\n",
       "\n",
       "[105 rows x 2 columns]"
      ]
     },
     "execution_count": 12,
     "metadata": {},
     "output_type": "execute_result"
    }
   ],
   "source": [
    "sample_fraction = 0.01\n",
    "dataset_file = \"data/0.75_min_confidence.csv\"\n",
    "\n",
    "train = pd.read_csv(dataset_file)\n",
    "train = train.sample(frac=sample_fraction).reset_index(drop=True)\n",
    "train"
   ]
  },
  {
   "cell_type": "markdown",
   "metadata": {},
   "source": [
    "### Run inference using GPT-3 API"
   ]
  },
  {
   "cell_type": "code",
   "execution_count": 13,
   "metadata": {},
   "outputs": [],
   "source": [
    "def model(tweet):\n",
    "    \"\"\" Returns gtp-3 logprobs for top 3 predictions given a tweet \"\"\"\n",
    "    prompt = intro + ex1 + ex2 + \"Tweet: \" + tweet + \"\\nSentiment:\"\n",
    "    response = openai.Completion.create(engine=\"davinci\",\n",
    "                                        prompt=prompt,\n",
    "                                        temperature=0.05,\n",
    "                                        logprobs=3,\n",
    "                                        max_tokens=1)\n",
    "    return pd.Series(\n",
    "        dict(response['choices'][0]['logprobs']['top_logprobs'][0]))"
   ]
  },
  {
   "cell_type": "code",
   "execution_count": 14,
   "metadata": {},
   "outputs": [],
   "source": [
    "def sigmoid(x):\n",
    "    \"\"\" Converts logprobs into a more human readable probability \"\"\"\n",
    "    return 2 / (1 + np.exp(-x))"
   ]
  },
  {
   "cell_type": "code",
   "execution_count": 15,
   "metadata": {},
   "outputs": [],
   "source": [
    "def evaluate(x):\n",
    "    \"\"\" Returns the highest scoring prediction \"\"\"\n",
    "    return x.idxmax().lower()[1:]"
   ]
  },
  {
   "cell_type": "code",
   "execution_count": 16,
   "metadata": {},
   "outputs": [],
   "source": [
    "probs = train['text'].apply(model).applymap(sigmoid)\n",
    "probs['prediction'] = probs.apply(evaluate, axis=1)\n",
    "result = train.merge(probs, left_index=True, right_index=True)"
   ]
  },
  {
   "cell_type": "markdown",
   "metadata": {},
   "source": [
    "### Calculate the accuracy"
   ]
  },
  {
   "cell_type": "code",
   "execution_count": 17,
   "metadata": {},
   "outputs": [
    {
     "data": {
      "text/plain": [
       "0.8285714285714286"
      ]
     },
     "execution_count": 17,
     "metadata": {},
     "output_type": "execute_result"
    }
   ],
   "source": [
    "loss = result['airline_sentiment'] == result['prediction']\n",
    "loss.agg('sum') / loss.size"
   ]
  }
 ],
 "metadata": {
  "kernelspec": {
   "display_name": "Python 3",
   "language": "python",
   "name": "python3"
  },
  "language_info": {
   "codemirror_mode": {
    "name": "ipython",
    "version": 3
   },
   "file_extension": ".py",
   "mimetype": "text/x-python",
   "name": "python",
   "nbconvert_exporter": "python",
   "pygments_lexer": "ipython3",
   "version": "3.7.6"
  }
 },
 "nbformat": 4,
 "nbformat_minor": 4
}
